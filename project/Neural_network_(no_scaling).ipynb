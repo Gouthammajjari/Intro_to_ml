{
  "nbformat": 4,
  "nbformat_minor": 0,
  "metadata": {
    "colab": {
      "provenance": [],
      "authorship_tag": "ABX9TyPmEedh+NMTANQQxMUFaGV4",
      "include_colab_link": true
    },
    "kernelspec": {
      "name": "python3",
      "display_name": "Python 3"
    },
    "language_info": {
      "name": "python"
    }
  },
  "cells": [
    {
      "cell_type": "markdown",
      "metadata": {
        "id": "view-in-github",
        "colab_type": "text"
      },
      "source": [
        "<a href=\"https://colab.research.google.com/github/Gouthammajjari/Intro_to_ml/blob/main/project/Neural_network_(no_scaling).ipynb\" target=\"_parent\"><img src=\"https://colab.research.google.com/assets/colab-badge.svg\" alt=\"Open In Colab\"/></a>"
      ]
    },
    {
      "cell_type": "code",
      "execution_count": 1,
      "metadata": {
        "id": "2r6zZGE1Z18Q"
      },
      "outputs": [],
      "source": [
        "import os\n",
        "import torch\n",
        "import torch.nn as nn\n",
        "import torch.optim as optim\n",
        "from torch.utils.data import DataLoader, TensorDataset\n",
        "from sklearn.model_selection import train_test_split\n",
        "from sklearn.preprocessing import StandardScaler\n",
        "import pandas as pd\n",
        "import numpy as np\n",
        "import matplotlib.pyplot as plt"
      ]
    },
    {
      "cell_type": "code",
      "source": [
        "#Use the URL for the raw CSV data\n",
        "url = 'https://raw.githubusercontent.com/Gouthammajjari/Intro_to_ml/main/project/data_preprocessed.csv'\n",
        "df = pd.read_csv(url)\n",
        "\n",
        "# Display the first 5 rows of the DataFrame\n",
        "df.head()"
      ],
      "metadata": {
        "colab": {
          "base_uri": "https://localhost:8080/",
          "height": 206
        },
        "id": "loOz1YbcchWf",
        "outputId": "a904bec5-80d5-43b2-f9ad-872714a5e75e"
      },
      "execution_count": 2,
      "outputs": [
        {
          "output_type": "execute_result",
          "data": {
            "text/plain": [
              "   fare_amount  pickup_longitude  pickup_latitude  dropoff_longitude  \\\n",
              "0          7.5        -73.999817        40.738354         -73.999512   \n",
              "1          7.7        -73.994355        40.728225         -73.994710   \n",
              "2         12.9        -74.005043        40.740770         -73.962565   \n",
              "3          5.3        -73.976124        40.790844         -73.965316   \n",
              "4         16.0        -73.925023        40.744085         -73.973082   \n",
              "\n",
              "   dropoff_latitude  passenger_count  distance  day  hour  weekday  month  \\\n",
              "0         40.723217                1  1.683323    7    19        3      5   \n",
              "1         40.750325                1  2.457590   17    20        4      7   \n",
              "2         40.772647                1  5.036377   24    21        0      8   \n",
              "3         40.803349                3  1.661683   26     8        4      6   \n",
              "4         40.761247                5  4.475450   28    17        3      8   \n",
              "\n",
              "   year  \n",
              "0  2015  \n",
              "1  2009  \n",
              "2  2009  \n",
              "3  2009  \n",
              "4  2014  "
            ],
            "text/html": [
              "\n",
              "  <div id=\"df-a7ed39d1-315e-4e6b-94a2-47da05d468b8\" class=\"colab-df-container\">\n",
              "    <div>\n",
              "<style scoped>\n",
              "    .dataframe tbody tr th:only-of-type {\n",
              "        vertical-align: middle;\n",
              "    }\n",
              "\n",
              "    .dataframe tbody tr th {\n",
              "        vertical-align: top;\n",
              "    }\n",
              "\n",
              "    .dataframe thead th {\n",
              "        text-align: right;\n",
              "    }\n",
              "</style>\n",
              "<table border=\"1\" class=\"dataframe\">\n",
              "  <thead>\n",
              "    <tr style=\"text-align: right;\">\n",
              "      <th></th>\n",
              "      <th>fare_amount</th>\n",
              "      <th>pickup_longitude</th>\n",
              "      <th>pickup_latitude</th>\n",
              "      <th>dropoff_longitude</th>\n",
              "      <th>dropoff_latitude</th>\n",
              "      <th>passenger_count</th>\n",
              "      <th>distance</th>\n",
              "      <th>day</th>\n",
              "      <th>hour</th>\n",
              "      <th>weekday</th>\n",
              "      <th>month</th>\n",
              "      <th>year</th>\n",
              "    </tr>\n",
              "  </thead>\n",
              "  <tbody>\n",
              "    <tr>\n",
              "      <th>0</th>\n",
              "      <td>7.5</td>\n",
              "      <td>-73.999817</td>\n",
              "      <td>40.738354</td>\n",
              "      <td>-73.999512</td>\n",
              "      <td>40.723217</td>\n",
              "      <td>1</td>\n",
              "      <td>1.683323</td>\n",
              "      <td>7</td>\n",
              "      <td>19</td>\n",
              "      <td>3</td>\n",
              "      <td>5</td>\n",
              "      <td>2015</td>\n",
              "    </tr>\n",
              "    <tr>\n",
              "      <th>1</th>\n",
              "      <td>7.7</td>\n",
              "      <td>-73.994355</td>\n",
              "      <td>40.728225</td>\n",
              "      <td>-73.994710</td>\n",
              "      <td>40.750325</td>\n",
              "      <td>1</td>\n",
              "      <td>2.457590</td>\n",
              "      <td>17</td>\n",
              "      <td>20</td>\n",
              "      <td>4</td>\n",
              "      <td>7</td>\n",
              "      <td>2009</td>\n",
              "    </tr>\n",
              "    <tr>\n",
              "      <th>2</th>\n",
              "      <td>12.9</td>\n",
              "      <td>-74.005043</td>\n",
              "      <td>40.740770</td>\n",
              "      <td>-73.962565</td>\n",
              "      <td>40.772647</td>\n",
              "      <td>1</td>\n",
              "      <td>5.036377</td>\n",
              "      <td>24</td>\n",
              "      <td>21</td>\n",
              "      <td>0</td>\n",
              "      <td>8</td>\n",
              "      <td>2009</td>\n",
              "    </tr>\n",
              "    <tr>\n",
              "      <th>3</th>\n",
              "      <td>5.3</td>\n",
              "      <td>-73.976124</td>\n",
              "      <td>40.790844</td>\n",
              "      <td>-73.965316</td>\n",
              "      <td>40.803349</td>\n",
              "      <td>3</td>\n",
              "      <td>1.661683</td>\n",
              "      <td>26</td>\n",
              "      <td>8</td>\n",
              "      <td>4</td>\n",
              "      <td>6</td>\n",
              "      <td>2009</td>\n",
              "    </tr>\n",
              "    <tr>\n",
              "      <th>4</th>\n",
              "      <td>16.0</td>\n",
              "      <td>-73.925023</td>\n",
              "      <td>40.744085</td>\n",
              "      <td>-73.973082</td>\n",
              "      <td>40.761247</td>\n",
              "      <td>5</td>\n",
              "      <td>4.475450</td>\n",
              "      <td>28</td>\n",
              "      <td>17</td>\n",
              "      <td>3</td>\n",
              "      <td>8</td>\n",
              "      <td>2014</td>\n",
              "    </tr>\n",
              "  </tbody>\n",
              "</table>\n",
              "</div>\n",
              "    <div class=\"colab-df-buttons\">\n",
              "\n",
              "  <div class=\"colab-df-container\">\n",
              "    <button class=\"colab-df-convert\" onclick=\"convertToInteractive('df-a7ed39d1-315e-4e6b-94a2-47da05d468b8')\"\n",
              "            title=\"Convert this dataframe to an interactive table.\"\n",
              "            style=\"display:none;\">\n",
              "\n",
              "  <svg xmlns=\"http://www.w3.org/2000/svg\" height=\"24px\" viewBox=\"0 -960 960 960\">\n",
              "    <path d=\"M120-120v-720h720v720H120Zm60-500h600v-160H180v160Zm220 220h160v-160H400v160Zm0 220h160v-160H400v160ZM180-400h160v-160H180v160Zm440 0h160v-160H620v160ZM180-180h160v-160H180v160Zm440 0h160v-160H620v160Z\"/>\n",
              "  </svg>\n",
              "    </button>\n",
              "\n",
              "  <style>\n",
              "    .colab-df-container {\n",
              "      display:flex;\n",
              "      gap: 12px;\n",
              "    }\n",
              "\n",
              "    .colab-df-convert {\n",
              "      background-color: #E8F0FE;\n",
              "      border: none;\n",
              "      border-radius: 50%;\n",
              "      cursor: pointer;\n",
              "      display: none;\n",
              "      fill: #1967D2;\n",
              "      height: 32px;\n",
              "      padding: 0 0 0 0;\n",
              "      width: 32px;\n",
              "    }\n",
              "\n",
              "    .colab-df-convert:hover {\n",
              "      background-color: #E2EBFA;\n",
              "      box-shadow: 0px 1px 2px rgba(60, 64, 67, 0.3), 0px 1px 3px 1px rgba(60, 64, 67, 0.15);\n",
              "      fill: #174EA6;\n",
              "    }\n",
              "\n",
              "    .colab-df-buttons div {\n",
              "      margin-bottom: 4px;\n",
              "    }\n",
              "\n",
              "    [theme=dark] .colab-df-convert {\n",
              "      background-color: #3B4455;\n",
              "      fill: #D2E3FC;\n",
              "    }\n",
              "\n",
              "    [theme=dark] .colab-df-convert:hover {\n",
              "      background-color: #434B5C;\n",
              "      box-shadow: 0px 1px 3px 1px rgba(0, 0, 0, 0.15);\n",
              "      filter: drop-shadow(0px 1px 2px rgba(0, 0, 0, 0.3));\n",
              "      fill: #FFFFFF;\n",
              "    }\n",
              "  </style>\n",
              "\n",
              "    <script>\n",
              "      const buttonEl =\n",
              "        document.querySelector('#df-a7ed39d1-315e-4e6b-94a2-47da05d468b8 button.colab-df-convert');\n",
              "      buttonEl.style.display =\n",
              "        google.colab.kernel.accessAllowed ? 'block' : 'none';\n",
              "\n",
              "      async function convertToInteractive(key) {\n",
              "        const element = document.querySelector('#df-a7ed39d1-315e-4e6b-94a2-47da05d468b8');\n",
              "        const dataTable =\n",
              "          await google.colab.kernel.invokeFunction('convertToInteractive',\n",
              "                                                    [key], {});\n",
              "        if (!dataTable) return;\n",
              "\n",
              "        const docLinkHtml = 'Like what you see? Visit the ' +\n",
              "          '<a target=\"_blank\" href=https://colab.research.google.com/notebooks/data_table.ipynb>data table notebook</a>'\n",
              "          + ' to learn more about interactive tables.';\n",
              "        element.innerHTML = '';\n",
              "        dataTable['output_type'] = 'display_data';\n",
              "        await google.colab.output.renderOutput(dataTable, element);\n",
              "        const docLink = document.createElement('div');\n",
              "        docLink.innerHTML = docLinkHtml;\n",
              "        element.appendChild(docLink);\n",
              "      }\n",
              "    </script>\n",
              "  </div>\n",
              "\n",
              "\n",
              "<div id=\"df-c5fc7946-f5c2-4964-a6ab-1171daaf4bab\">\n",
              "  <button class=\"colab-df-quickchart\" onclick=\"quickchart('df-c5fc7946-f5c2-4964-a6ab-1171daaf4bab')\"\n",
              "            title=\"Suggest charts\"\n",
              "            style=\"display:none;\">\n",
              "\n",
              "<svg xmlns=\"http://www.w3.org/2000/svg\" height=\"24px\"viewBox=\"0 0 24 24\"\n",
              "     width=\"24px\">\n",
              "    <g>\n",
              "        <path d=\"M19 3H5c-1.1 0-2 .9-2 2v14c0 1.1.9 2 2 2h14c1.1 0 2-.9 2-2V5c0-1.1-.9-2-2-2zM9 17H7v-7h2v7zm4 0h-2V7h2v10zm4 0h-2v-4h2v4z\"/>\n",
              "    </g>\n",
              "</svg>\n",
              "  </button>\n",
              "\n",
              "<style>\n",
              "  .colab-df-quickchart {\n",
              "      --bg-color: #E8F0FE;\n",
              "      --fill-color: #1967D2;\n",
              "      --hover-bg-color: #E2EBFA;\n",
              "      --hover-fill-color: #174EA6;\n",
              "      --disabled-fill-color: #AAA;\n",
              "      --disabled-bg-color: #DDD;\n",
              "  }\n",
              "\n",
              "  [theme=dark] .colab-df-quickchart {\n",
              "      --bg-color: #3B4455;\n",
              "      --fill-color: #D2E3FC;\n",
              "      --hover-bg-color: #434B5C;\n",
              "      --hover-fill-color: #FFFFFF;\n",
              "      --disabled-bg-color: #3B4455;\n",
              "      --disabled-fill-color: #666;\n",
              "  }\n",
              "\n",
              "  .colab-df-quickchart {\n",
              "    background-color: var(--bg-color);\n",
              "    border: none;\n",
              "    border-radius: 50%;\n",
              "    cursor: pointer;\n",
              "    display: none;\n",
              "    fill: var(--fill-color);\n",
              "    height: 32px;\n",
              "    padding: 0;\n",
              "    width: 32px;\n",
              "  }\n",
              "\n",
              "  .colab-df-quickchart:hover {\n",
              "    background-color: var(--hover-bg-color);\n",
              "    box-shadow: 0 1px 2px rgba(60, 64, 67, 0.3), 0 1px 3px 1px rgba(60, 64, 67, 0.15);\n",
              "    fill: var(--button-hover-fill-color);\n",
              "  }\n",
              "\n",
              "  .colab-df-quickchart-complete:disabled,\n",
              "  .colab-df-quickchart-complete:disabled:hover {\n",
              "    background-color: var(--disabled-bg-color);\n",
              "    fill: var(--disabled-fill-color);\n",
              "    box-shadow: none;\n",
              "  }\n",
              "\n",
              "  .colab-df-spinner {\n",
              "    border: 2px solid var(--fill-color);\n",
              "    border-color: transparent;\n",
              "    border-bottom-color: var(--fill-color);\n",
              "    animation:\n",
              "      spin 1s steps(1) infinite;\n",
              "  }\n",
              "\n",
              "  @keyframes spin {\n",
              "    0% {\n",
              "      border-color: transparent;\n",
              "      border-bottom-color: var(--fill-color);\n",
              "      border-left-color: var(--fill-color);\n",
              "    }\n",
              "    20% {\n",
              "      border-color: transparent;\n",
              "      border-left-color: var(--fill-color);\n",
              "      border-top-color: var(--fill-color);\n",
              "    }\n",
              "    30% {\n",
              "      border-color: transparent;\n",
              "      border-left-color: var(--fill-color);\n",
              "      border-top-color: var(--fill-color);\n",
              "      border-right-color: var(--fill-color);\n",
              "    }\n",
              "    40% {\n",
              "      border-color: transparent;\n",
              "      border-right-color: var(--fill-color);\n",
              "      border-top-color: var(--fill-color);\n",
              "    }\n",
              "    60% {\n",
              "      border-color: transparent;\n",
              "      border-right-color: var(--fill-color);\n",
              "    }\n",
              "    80% {\n",
              "      border-color: transparent;\n",
              "      border-right-color: var(--fill-color);\n",
              "      border-bottom-color: var(--fill-color);\n",
              "    }\n",
              "    90% {\n",
              "      border-color: transparent;\n",
              "      border-bottom-color: var(--fill-color);\n",
              "    }\n",
              "  }\n",
              "</style>\n",
              "\n",
              "  <script>\n",
              "    async function quickchart(key) {\n",
              "      const quickchartButtonEl =\n",
              "        document.querySelector('#' + key + ' button');\n",
              "      quickchartButtonEl.disabled = true;  // To prevent multiple clicks.\n",
              "      quickchartButtonEl.classList.add('colab-df-spinner');\n",
              "      try {\n",
              "        const charts = await google.colab.kernel.invokeFunction(\n",
              "            'suggestCharts', [key], {});\n",
              "      } catch (error) {\n",
              "        console.error('Error during call to suggestCharts:', error);\n",
              "      }\n",
              "      quickchartButtonEl.classList.remove('colab-df-spinner');\n",
              "      quickchartButtonEl.classList.add('colab-df-quickchart-complete');\n",
              "    }\n",
              "    (() => {\n",
              "      let quickchartButtonEl =\n",
              "        document.querySelector('#df-c5fc7946-f5c2-4964-a6ab-1171daaf4bab button');\n",
              "      quickchartButtonEl.style.display =\n",
              "        google.colab.kernel.accessAllowed ? 'block' : 'none';\n",
              "    })();\n",
              "  </script>\n",
              "</div>\n",
              "    </div>\n",
              "  </div>\n"
            ],
            "application/vnd.google.colaboratory.intrinsic+json": {
              "type": "dataframe",
              "variable_name": "df"
            }
          },
          "metadata": {},
          "execution_count": 2
        }
      ]
    },
    {
      "cell_type": "code",
      "source": [
        "\n",
        "import torch\n",
        "import torch.nn as nn\n",
        "import torch.optim as optim\n",
        "from torch.utils.data import DataLoader, TensorDataset"
      ],
      "metadata": {
        "id": "eCvoCxEGcpE7"
      },
      "execution_count": 3,
      "outputs": []
    },
    {
      "cell_type": "code",
      "source": [
        "X = df.drop('fare_amount', axis = 1)\n",
        "y = df[['fare_amount']]"
      ],
      "metadata": {
        "id": "yVkuQfPfc0MQ"
      },
      "execution_count": 4,
      "outputs": []
    },
    {
      "cell_type": "code",
      "source": [
        "\n",
        "X = pd.DataFrame(X, columns=X.columns, index=X.index).values\n",
        "y = pd.DataFrame(y, columns=y.columns, index=y.index).values\n"
      ],
      "metadata": {
        "id": "rPmPWTcfc4dY"
      },
      "execution_count": 5,
      "outputs": []
    },
    {
      "cell_type": "code",
      "source": [
        "\n",
        "train_X, val_X, train_Y, val_Y = train_test_split(X, y, test_size=0.2, random_state=42)\n",
        "X_train = torch.tensor(train_X)\n",
        "y_train =  torch.tensor(train_Y)\n",
        "X_val =  torch.tensor(val_X)\n",
        "y_val =  torch.tensor(val_Y)"
      ],
      "metadata": {
        "id": "ZVs5IgLxc7Dy"
      },
      "execution_count": 6,
      "outputs": []
    },
    {
      "cell_type": "code",
      "source": [
        "\n",
        "training_data = TensorDataset(X_train, y_train)\n",
        "train_loader = DataLoader(training_data, batch_size=32, shuffle=True)\n",
        "\n",
        "val_data = TensorDataset(X_val, y_val)\n",
        "val_loader = DataLoader(val_data, batch_size=32)\n"
      ],
      "metadata": {
        "id": "DQ7RzRvkdFZN"
      },
      "execution_count": 7,
      "outputs": []
    },
    {
      "cell_type": "code",
      "source": [
        "\n",
        "def model_train(model, criterion, optimizer, epochs, train_loader, X_val, y_val):\n",
        "    loss_train = []\n",
        "    loss_val = []\n",
        "    for epoch in range(epochs + 1):\n",
        "        # Training\n",
        "        model.train()\n",
        "        for inputs, targets in train_loader:\n",
        "            optimizer.zero_grad()\n",
        "            outputs = model(inputs)\n",
        "            loss = criterion(outputs, targets.view(-1,1))\n",
        "            loss.backward()\n",
        "            optimizer.step()\n",
        "        # Validation\n",
        "        model.eval()\n",
        "        with torch.no_grad():\n",
        "            val_outputs = model(X_val)\n",
        "            val_loss = criterion(val_outputs, y_val)\n",
        "            if epoch % 50 == 0:\n",
        "              print(f'Epoch {epoch}/{epochs}, Training Loss: {loss.item()}, Validation Loss: {val_loss.item()}')\n",
        "            loss_val.append(val_loss)\n",
        "            loss_train.append(loss)\n",
        "    return loss_train, loss_val"
      ],
      "metadata": {
        "id": "HxwsjhITdNLs"
      },
      "execution_count": 8,
      "outputs": []
    },
    {
      "cell_type": "code",
      "source": [
        "model1 = nn.Sequential(\n",
        "    nn.Linear(X_train.shape[1], 32),\n",
        "    nn.Tanh(),\n",
        "    nn.Linear(32, 1)\n",
        ").to(torch.float64)\n",
        "optimizer1 = optim.SGD(model1.parameters(), lr=0.01)\n"
      ],
      "metadata": {
        "id": "kQYcgiIfdS_H"
      },
      "execution_count": 9,
      "outputs": []
    },
    {
      "cell_type": "code",
      "source": [
        "import time\n",
        "\n",
        "start_time = time.time()\n",
        "train_loss, val_loss = model_train(model1, nn.MSELoss(), optimizer1, 1000, train_loader, X_val, y_val)\n",
        "end_time = time.time()\n",
        "training_time = end_time - start_time\n",
        "print(f\"Training Time: {training_time} seconds\")"
      ],
      "metadata": {
        "colab": {
          "base_uri": "https://localhost:8080/"
        },
        "id": "yzyfTlopdZe2",
        "outputId": "5b75ca3f-17d8-4cfa-80b3-d0bfcc00b664"
      },
      "execution_count": 10,
      "outputs": [
        {
          "output_type": "stream",
          "name": "stdout",
          "text": [
            "Epoch 0/1000, Training Loss: 29.044459820690317, Validation Loss: 102.41610124599553\n",
            "Epoch 50/1000, Training Loss: 437.3737711119014, Validation Loss: 104.32265634196828\n",
            "Epoch 100/1000, Training Loss: 84.01752100495202, Validation Loss: 103.97240182483982\n",
            "Epoch 150/1000, Training Loss: 124.06451732118009, Validation Loss: 102.42523602396017\n",
            "Epoch 200/1000, Training Loss: 122.57191376168933, Validation Loss: 103.06551921774253\n",
            "Epoch 250/1000, Training Loss: 39.518204832544654, Validation Loss: 102.61301344121165\n",
            "Epoch 300/1000, Training Loss: 26.389157164501636, Validation Loss: 103.08320852811511\n",
            "Epoch 350/1000, Training Loss: 70.61036240364022, Validation Loss: 102.91595238275994\n",
            "Epoch 400/1000, Training Loss: 40.80499785440416, Validation Loss: 104.33877220611112\n",
            "Epoch 450/1000, Training Loss: 89.80971277404977, Validation Loss: 106.87234811418531\n",
            "Epoch 500/1000, Training Loss: 37.67221963871547, Validation Loss: 103.34266273687754\n",
            "Epoch 550/1000, Training Loss: 31.392777278598082, Validation Loss: 105.00632309997702\n",
            "Epoch 600/1000, Training Loss: 16.857714575477026, Validation Loss: 104.79845891101435\n",
            "Epoch 650/1000, Training Loss: 58.42612700739593, Validation Loss: 102.54428379035583\n",
            "Epoch 700/1000, Training Loss: 31.175132487619187, Validation Loss: 101.8037843292611\n",
            "Epoch 750/1000, Training Loss: 79.92459130378735, Validation Loss: 102.08040137649012\n",
            "Epoch 800/1000, Training Loss: 49.131333734849854, Validation Loss: 103.09920914250385\n",
            "Epoch 850/1000, Training Loss: 23.51379286266856, Validation Loss: 104.7330258575186\n",
            "Epoch 900/1000, Training Loss: 26.66125251920849, Validation Loss: 103.26169537260124\n",
            "Epoch 950/1000, Training Loss: 102.63744570467757, Validation Loss: 101.95753336208271\n",
            "Epoch 1000/1000, Training Loss: 56.6143766884258, Validation Loss: 101.80388838308636\n",
            "Training Time: 6238.729469537735 seconds\n"
          ]
        }
      ]
    },
    {
      "cell_type": "code",
      "source": [
        "torch.save(model1, 'model1.pth')"
      ],
      "metadata": {
        "id": "e3X284Pgmz1j"
      },
      "execution_count": 11,
      "outputs": []
    },
    {
      "cell_type": "code",
      "source": [
        "import pickle\n",
        "\n",
        "# Save list to a file\n",
        "with open('train_loss1.pkl', 'wb') as file:\n",
        "    pickle.dump(train_loss, file)\n",
        "with open('val_loss1.pkl', 'wb') as file:\n",
        "    pickle.dump(val_loss, file)"
      ],
      "metadata": {
        "id": "cNnSJsB9m0mE"
      },
      "execution_count": 12,
      "outputs": []
    },
    {
      "cell_type": "code",
      "source": [
        "def downsample_losses(train_loss, val_loss, step=50):\n",
        "    train_loss_batch = [train_loss[i].detach().item() for i in range(0, len(train_loss), step)]\n",
        "    val_loss_batch = [val_loss[i].detach().item() for i in range(0, len(val_loss), step)]\n",
        "    return train_loss_batch, val_loss_batch"
      ],
      "metadata": {
        "id": "JwW3UdRim2_X"
      },
      "execution_count": 13,
      "outputs": []
    },
    {
      "cell_type": "code",
      "source": [
        "epochs = range(0, 1001, 50)"
      ],
      "metadata": {
        "id": "LdAEwcJJm5JE"
      },
      "execution_count": 14,
      "outputs": []
    },
    {
      "cell_type": "code",
      "source": [
        "model1 = nn.Sequential(\n",
        "    nn.Linear(X_train.shape[1], 32),\n",
        "    nn.Tanh(),\n",
        "    nn.Linear(32, 64),  # Second hidden layer with 64 neurons\n",
        "    nn.Tanh(),\n",
        "    nn.Linear(64, 16),  # Third hidden layer with 16 neurons\n",
        "    nn.Tanh(),\n",
        "    nn.Linear(16, 1) # Output layer with 1 neuron\n",
        ").to(torch.float64)\n",
        "criterion = nn.MSELoss()\n",
        "optimizer1 = optim.Adam(model1.parameters(), lr=0.01)"
      ],
      "metadata": {
        "id": "zNbK4i0Dm62Y"
      },
      "execution_count": 15,
      "outputs": []
    },
    {
      "cell_type": "code",
      "source": [
        "import time\n",
        "\n",
        "start_time = time.time()\n",
        "train_loss2, val_loss2 = model_train(model1, nn.MSELoss(), optimizer1, 1000, train_loader, X_val, y_val)\n",
        "end_time = time.time()\n",
        "training_time = end_time - start_time\n",
        "print(f\"Training Time: {training_time} seconds\")"
      ],
      "metadata": {
        "id": "shrdAZfnm9AU",
        "outputId": "24af160e-9dd5-4227-819a-a27b9ede4d07",
        "colab": {
          "base_uri": "https://localhost:8080/"
        }
      },
      "execution_count": null,
      "outputs": [
        {
          "metadata": {
            "tags": null
          },
          "name": "stdout",
          "output_type": "stream",
          "text": [
            "Epoch 0/1000, Training Loss: 23.1641469510835, Validation Loss: 101.80513562625656\n",
            "Epoch 50/1000, Training Loss: 103.25925641516267, Validation Loss: 101.97855204597286\n",
            "Epoch 100/1000, Training Loss: 58.236677860357, Validation Loss: 101.84435428186329\n",
            "Epoch 150/1000, Training Loss: 165.03528316024003, Validation Loss: 101.98914142436509\n",
            "Epoch 200/1000, Training Loss: 43.2846619855687, Validation Loss: 101.9793767668257\n",
            "Epoch 250/1000, Training Loss: 131.26770893422426, Validation Loss: 101.80200920867468\n",
            "Epoch 300/1000, Training Loss: 167.37675403835433, Validation Loss: 102.0124654278065\n",
            "Epoch 350/1000, Training Loss: 27.96075506238705, Validation Loss: 101.80198027097381\n",
            "Epoch 400/1000, Training Loss: 49.295231197290455, Validation Loss: 102.16183836021139\n",
            "Epoch 450/1000, Training Loss: 148.64603481539228, Validation Loss: 101.8153357468049\n",
            "Epoch 500/1000, Training Loss: 91.62906109850165, Validation Loss: 101.81543997143802\n",
            "Epoch 550/1000, Training Loss: 48.2844325054651, Validation Loss: 101.96795320686851\n",
            "Epoch 600/1000, Training Loss: 39.403064372891365, Validation Loss: 101.88206759962469\n",
            "Epoch 650/1000, Training Loss: 26.14425854219173, Validation Loss: 102.14258402657576\n",
            "Epoch 700/1000, Training Loss: 142.37498334169825, Validation Loss: 101.8102652953932\n",
            "Epoch 750/1000, Training Loss: 101.60895719987204, Validation Loss: 101.93908207781627\n"
          ]
        }
      ]
    },
    {
      "cell_type": "code",
      "source": [
        "\n",
        "torch.save(model1, 'model2.pth')"
      ],
      "metadata": {
        "id": "uVrX9V-Lm_re"
      },
      "execution_count": null,
      "outputs": []
    },
    {
      "cell_type": "code",
      "source": [
        "import pickle\n",
        "\n",
        "# Save list to a file\n",
        "with open('train_loss2.pkl', 'wb') as file:\n",
        "    pickle.dump(train_loss2, file)\n",
        "with open('val_loss2.pkl', 'wb') as file:\n",
        "    pickle.dump(val_loss2, file)"
      ],
      "metadata": {
        "id": "SM2H6zf4nBho"
      },
      "execution_count": null,
      "outputs": []
    },
    {
      "cell_type": "code",
      "source": [
        "train_loss_batch1, val_loss_batch1 = downsample_losses(train_loss, val_loss, step=50)\n",
        "train_loss_batch2, val_loss_batch2 = downsample_losses(train_loss2, val_loss2, step=50)"
      ],
      "metadata": {
        "id": "XnOPLNA5nDuU"
      },
      "execution_count": null,
      "outputs": []
    },
    {
      "cell_type": "code",
      "source": [
        "plt.figure(figsize=(10, 8))\n",
        "\n",
        "plt.subplot(2,2,1)\n",
        "plt.plot(epochs, train_loss_batch1, color='blue', label = 'training Loss')\n",
        "plt.plot(epochs, val_loss_batch1, color='red', label = 'validation Loss')\n",
        "plt.title('Loss with Learning Rate of 0.01 (1 hidden layer)')\n",
        "plt.legend()\n",
        "\n",
        "plt.subplot(2,2,2)\n",
        "plt.plot(epochs, train_loss_batch2, color='blue', label = 'training Loss')\n",
        "plt.plot(epochs, val_loss_batch2, color='red', label = 'validation Loss')\n",
        "plt.title('Loss with Learning Rate of 0.01 (3 Hidden Layers)')\n",
        "plt.legend()\n",
        "\n",
        "plt.show()"
      ],
      "metadata": {
        "id": "0v-D0ebNnF1h"
      },
      "execution_count": null,
      "outputs": []
    },
    {
      "cell_type": "code",
      "source": [
        "model1 = nn.Sequential(\n",
        "    nn.Linear(X_train.shape[1], 32),\n",
        "    nn.Tanh(),\n",
        "    nn.Linear(32, 1)\n",
        ").to(torch.float64)\n",
        "optimizer1 = optim.SGD(model1.parameters(), lr=0.01)"
      ],
      "metadata": {
        "id": "RhOn3i-2nH6k"
      },
      "execution_count": null,
      "outputs": []
    },
    {
      "cell_type": "code",
      "source": [
        "import time\n",
        "\n",
        "start_time = time.time()\n",
        "train_loss5k, val_loss5k = model_train(model1, nn.MSELoss(), optimizer1, 5000, train_loader, X_val, y_val)\n",
        "end_time = time.time()\n",
        "training_time = end_time - start_time\n",
        "print(f\"Training Time: {training_time} seconds\")"
      ],
      "metadata": {
        "id": "PmHZDvRwnKN9"
      },
      "execution_count": null,
      "outputs": []
    },
    {
      "cell_type": "code",
      "source": [
        "torch.save(model1, 'model15k.pth')"
      ],
      "metadata": {
        "id": "ndywrj4TnM6c"
      },
      "execution_count": null,
      "outputs": []
    },
    {
      "cell_type": "code",
      "source": [
        "import pickle\n",
        "\n",
        "# Save list to a file\n",
        "with open('train_loss15k.pkl', 'wb') as file:\n",
        "    pickle.dump(train_loss5k, file)\n",
        "with open('val_loss15k.pkl', 'wb') as file:\n",
        "    pickle.dump(val_loss5k, file)"
      ],
      "metadata": {
        "id": "7C4GfLW7nPXR"
      },
      "execution_count": null,
      "outputs": []
    }
  ]
}