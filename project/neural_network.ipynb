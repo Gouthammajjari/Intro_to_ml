{
  "nbformat": 4,
  "nbformat_minor": 0,
  "metadata": {
    "colab": {
      "provenance": [],
      "authorship_tag": "ABX9TyOJ4TfDAdHZ14h4+pyLrXlM",
      "include_colab_link": true
    },
    "kernelspec": {
      "name": "python3",
      "display_name": "Python 3"
    },
    "language_info": {
      "name": "python"
    }
  },
  "cells": [
    {
      "cell_type": "markdown",
      "metadata": {
        "id": "view-in-github",
        "colab_type": "text"
      },
      "source": [
        "<a href=\"https://colab.research.google.com/github/Gouthammajjari/Intro_to_ml/blob/main/project/neural_network.ipynb\" target=\"_parent\"><img src=\"https://colab.research.google.com/assets/colab-badge.svg\" alt=\"Open In Colab\"/></a>"
      ]
    },
    {
      "cell_type": "code",
      "execution_count": 1,
      "metadata": {
        "id": "0TniYYbihmYw"
      },
      "outputs": [],
      "source": [
        "import os\n",
        "import torch\n",
        "import torch.nn as nn\n",
        "import torch.optim as optim\n",
        "from torch.utils.data import DataLoader, TensorDataset\n",
        "from sklearn.model_selection import train_test_split\n",
        "from sklearn.preprocessing import StandardScaler\n",
        "import pandas as pd\n",
        "import numpy as np\n",
        "import matplotlib.pyplot as plt"
      ]
    },
    {
      "cell_type": "code",
      "source": [
        "#Use the URL for the raw CSV data\n",
        "url = 'https://raw.githubusercontent.com/Dhanush-adk/machine_learning/main/project/data_preprocessed.csv'\n",
        "df = pd.read_csv(url)\n",
        "\n",
        "# Display the first 5 rows of the DataFrame\n",
        "df.head()"
      ],
      "metadata": {
        "colab": {
          "base_uri": "https://localhost:8080/",
          "height": 206
        },
        "id": "eLT8OrXUkED8",
        "outputId": "30e9b3bf-0bd2-463c-893e-6e9d27b510a7"
      },
      "execution_count": 2,
      "outputs": [
        {
          "output_type": "execute_result",
          "data": {
            "text/plain": [
              "   fare_amount  pickup_longitude  pickup_latitude  dropoff_longitude  \\\n",
              "0          7.5        -73.999817        40.738354         -73.999512   \n",
              "1          7.7        -73.994355        40.728225         -73.994710   \n",
              "2         12.9        -74.005043        40.740770         -73.962565   \n",
              "3          5.3        -73.976124        40.790844         -73.965316   \n",
              "4         16.0        -73.925023        40.744085         -73.973082   \n",
              "\n",
              "   dropoff_latitude  passenger_count  day  hour  weekday  month  year  \\\n",
              "0         40.723217                1    7    19        3      5  2015   \n",
              "1         40.750325                1   17    20        4      7  2009   \n",
              "2         40.772647                1   24    21        0      8  2009   \n",
              "3         40.803349                3   26     8        4      6  2009   \n",
              "4         40.761247                5   28    17        3      8  2014   \n",
              "\n",
              "   distance  \n",
              "0  1.683323  \n",
              "1  2.457590  \n",
              "2  5.036377  \n",
              "3  1.661683  \n",
              "4  4.475450  "
            ],
            "text/html": [
              "\n",
              "  <div id=\"df-1f13f671-aec7-4af2-b231-3c3337f9b0c1\" class=\"colab-df-container\">\n",
              "    <div>\n",
              "<style scoped>\n",
              "    .dataframe tbody tr th:only-of-type {\n",
              "        vertical-align: middle;\n",
              "    }\n",
              "\n",
              "    .dataframe tbody tr th {\n",
              "        vertical-align: top;\n",
              "    }\n",
              "\n",
              "    .dataframe thead th {\n",
              "        text-align: right;\n",
              "    }\n",
              "</style>\n",
              "<table border=\"1\" class=\"dataframe\">\n",
              "  <thead>\n",
              "    <tr style=\"text-align: right;\">\n",
              "      <th></th>\n",
              "      <th>fare_amount</th>\n",
              "      <th>pickup_longitude</th>\n",
              "      <th>pickup_latitude</th>\n",
              "      <th>dropoff_longitude</th>\n",
              "      <th>dropoff_latitude</th>\n",
              "      <th>passenger_count</th>\n",
              "      <th>day</th>\n",
              "      <th>hour</th>\n",
              "      <th>weekday</th>\n",
              "      <th>month</th>\n",
              "      <th>year</th>\n",
              "      <th>distance</th>\n",
              "    </tr>\n",
              "  </thead>\n",
              "  <tbody>\n",
              "    <tr>\n",
              "      <th>0</th>\n",
              "      <td>7.5</td>\n",
              "      <td>-73.999817</td>\n",
              "      <td>40.738354</td>\n",
              "      <td>-73.999512</td>\n",
              "      <td>40.723217</td>\n",
              "      <td>1</td>\n",
              "      <td>7</td>\n",
              "      <td>19</td>\n",
              "      <td>3</td>\n",
              "      <td>5</td>\n",
              "      <td>2015</td>\n",
              "      <td>1.683323</td>\n",
              "    </tr>\n",
              "    <tr>\n",
              "      <th>1</th>\n",
              "      <td>7.7</td>\n",
              "      <td>-73.994355</td>\n",
              "      <td>40.728225</td>\n",
              "      <td>-73.994710</td>\n",
              "      <td>40.750325</td>\n",
              "      <td>1</td>\n",
              "      <td>17</td>\n",
              "      <td>20</td>\n",
              "      <td>4</td>\n",
              "      <td>7</td>\n",
              "      <td>2009</td>\n",
              "      <td>2.457590</td>\n",
              "    </tr>\n",
              "    <tr>\n",
              "      <th>2</th>\n",
              "      <td>12.9</td>\n",
              "      <td>-74.005043</td>\n",
              "      <td>40.740770</td>\n",
              "      <td>-73.962565</td>\n",
              "      <td>40.772647</td>\n",
              "      <td>1</td>\n",
              "      <td>24</td>\n",
              "      <td>21</td>\n",
              "      <td>0</td>\n",
              "      <td>8</td>\n",
              "      <td>2009</td>\n",
              "      <td>5.036377</td>\n",
              "    </tr>\n",
              "    <tr>\n",
              "      <th>3</th>\n",
              "      <td>5.3</td>\n",
              "      <td>-73.976124</td>\n",
              "      <td>40.790844</td>\n",
              "      <td>-73.965316</td>\n",
              "      <td>40.803349</td>\n",
              "      <td>3</td>\n",
              "      <td>26</td>\n",
              "      <td>8</td>\n",
              "      <td>4</td>\n",
              "      <td>6</td>\n",
              "      <td>2009</td>\n",
              "      <td>1.661683</td>\n",
              "    </tr>\n",
              "    <tr>\n",
              "      <th>4</th>\n",
              "      <td>16.0</td>\n",
              "      <td>-73.925023</td>\n",
              "      <td>40.744085</td>\n",
              "      <td>-73.973082</td>\n",
              "      <td>40.761247</td>\n",
              "      <td>5</td>\n",
              "      <td>28</td>\n",
              "      <td>17</td>\n",
              "      <td>3</td>\n",
              "      <td>8</td>\n",
              "      <td>2014</td>\n",
              "      <td>4.475450</td>\n",
              "    </tr>\n",
              "  </tbody>\n",
              "</table>\n",
              "</div>\n",
              "    <div class=\"colab-df-buttons\">\n",
              "\n",
              "  <div class=\"colab-df-container\">\n",
              "    <button class=\"colab-df-convert\" onclick=\"convertToInteractive('df-1f13f671-aec7-4af2-b231-3c3337f9b0c1')\"\n",
              "            title=\"Convert this dataframe to an interactive table.\"\n",
              "            style=\"display:none;\">\n",
              "\n",
              "  <svg xmlns=\"http://www.w3.org/2000/svg\" height=\"24px\" viewBox=\"0 -960 960 960\">\n",
              "    <path d=\"M120-120v-720h720v720H120Zm60-500h600v-160H180v160Zm220 220h160v-160H400v160Zm0 220h160v-160H400v160ZM180-400h160v-160H180v160Zm440 0h160v-160H620v160ZM180-180h160v-160H180v160Zm440 0h160v-160H620v160Z\"/>\n",
              "  </svg>\n",
              "    </button>\n",
              "\n",
              "  <style>\n",
              "    .colab-df-container {\n",
              "      display:flex;\n",
              "      gap: 12px;\n",
              "    }\n",
              "\n",
              "    .colab-df-convert {\n",
              "      background-color: #E8F0FE;\n",
              "      border: none;\n",
              "      border-radius: 50%;\n",
              "      cursor: pointer;\n",
              "      display: none;\n",
              "      fill: #1967D2;\n",
              "      height: 32px;\n",
              "      padding: 0 0 0 0;\n",
              "      width: 32px;\n",
              "    }\n",
              "\n",
              "    .colab-df-convert:hover {\n",
              "      background-color: #E2EBFA;\n",
              "      box-shadow: 0px 1px 2px rgba(60, 64, 67, 0.3), 0px 1px 3px 1px rgba(60, 64, 67, 0.15);\n",
              "      fill: #174EA6;\n",
              "    }\n",
              "\n",
              "    .colab-df-buttons div {\n",
              "      margin-bottom: 4px;\n",
              "    }\n",
              "\n",
              "    [theme=dark] .colab-df-convert {\n",
              "      background-color: #3B4455;\n",
              "      fill: #D2E3FC;\n",
              "    }\n",
              "\n",
              "    [theme=dark] .colab-df-convert:hover {\n",
              "      background-color: #434B5C;\n",
              "      box-shadow: 0px 1px 3px 1px rgba(0, 0, 0, 0.15);\n",
              "      filter: drop-shadow(0px 1px 2px rgba(0, 0, 0, 0.3));\n",
              "      fill: #FFFFFF;\n",
              "    }\n",
              "  </style>\n",
              "\n",
              "    <script>\n",
              "      const buttonEl =\n",
              "        document.querySelector('#df-1f13f671-aec7-4af2-b231-3c3337f9b0c1 button.colab-df-convert');\n",
              "      buttonEl.style.display =\n",
              "        google.colab.kernel.accessAllowed ? 'block' : 'none';\n",
              "\n",
              "      async function convertToInteractive(key) {\n",
              "        const element = document.querySelector('#df-1f13f671-aec7-4af2-b231-3c3337f9b0c1');\n",
              "        const dataTable =\n",
              "          await google.colab.kernel.invokeFunction('convertToInteractive',\n",
              "                                                    [key], {});\n",
              "        if (!dataTable) return;\n",
              "\n",
              "        const docLinkHtml = 'Like what you see? Visit the ' +\n",
              "          '<a target=\"_blank\" href=https://colab.research.google.com/notebooks/data_table.ipynb>data table notebook</a>'\n",
              "          + ' to learn more about interactive tables.';\n",
              "        element.innerHTML = '';\n",
              "        dataTable['output_type'] = 'display_data';\n",
              "        await google.colab.output.renderOutput(dataTable, element);\n",
              "        const docLink = document.createElement('div');\n",
              "        docLink.innerHTML = docLinkHtml;\n",
              "        element.appendChild(docLink);\n",
              "      }\n",
              "    </script>\n",
              "  </div>\n",
              "\n",
              "\n",
              "<div id=\"df-3249651f-7721-48b5-bcaf-251e0ae3f6b1\">\n",
              "  <button class=\"colab-df-quickchart\" onclick=\"quickchart('df-3249651f-7721-48b5-bcaf-251e0ae3f6b1')\"\n",
              "            title=\"Suggest charts\"\n",
              "            style=\"display:none;\">\n",
              "\n",
              "<svg xmlns=\"http://www.w3.org/2000/svg\" height=\"24px\"viewBox=\"0 0 24 24\"\n",
              "     width=\"24px\">\n",
              "    <g>\n",
              "        <path d=\"M19 3H5c-1.1 0-2 .9-2 2v14c0 1.1.9 2 2 2h14c1.1 0 2-.9 2-2V5c0-1.1-.9-2-2-2zM9 17H7v-7h2v7zm4 0h-2V7h2v10zm4 0h-2v-4h2v4z\"/>\n",
              "    </g>\n",
              "</svg>\n",
              "  </button>\n",
              "\n",
              "<style>\n",
              "  .colab-df-quickchart {\n",
              "      --bg-color: #E8F0FE;\n",
              "      --fill-color: #1967D2;\n",
              "      --hover-bg-color: #E2EBFA;\n",
              "      --hover-fill-color: #174EA6;\n",
              "      --disabled-fill-color: #AAA;\n",
              "      --disabled-bg-color: #DDD;\n",
              "  }\n",
              "\n",
              "  [theme=dark] .colab-df-quickchart {\n",
              "      --bg-color: #3B4455;\n",
              "      --fill-color: #D2E3FC;\n",
              "      --hover-bg-color: #434B5C;\n",
              "      --hover-fill-color: #FFFFFF;\n",
              "      --disabled-bg-color: #3B4455;\n",
              "      --disabled-fill-color: #666;\n",
              "  }\n",
              "\n",
              "  .colab-df-quickchart {\n",
              "    background-color: var(--bg-color);\n",
              "    border: none;\n",
              "    border-radius: 50%;\n",
              "    cursor: pointer;\n",
              "    display: none;\n",
              "    fill: var(--fill-color);\n",
              "    height: 32px;\n",
              "    padding: 0;\n",
              "    width: 32px;\n",
              "  }\n",
              "\n",
              "  .colab-df-quickchart:hover {\n",
              "    background-color: var(--hover-bg-color);\n",
              "    box-shadow: 0 1px 2px rgba(60, 64, 67, 0.3), 0 1px 3px 1px rgba(60, 64, 67, 0.15);\n",
              "    fill: var(--button-hover-fill-color);\n",
              "  }\n",
              "\n",
              "  .colab-df-quickchart-complete:disabled,\n",
              "  .colab-df-quickchart-complete:disabled:hover {\n",
              "    background-color: var(--disabled-bg-color);\n",
              "    fill: var(--disabled-fill-color);\n",
              "    box-shadow: none;\n",
              "  }\n",
              "\n",
              "  .colab-df-spinner {\n",
              "    border: 2px solid var(--fill-color);\n",
              "    border-color: transparent;\n",
              "    border-bottom-color: var(--fill-color);\n",
              "    animation:\n",
              "      spin 1s steps(1) infinite;\n",
              "  }\n",
              "\n",
              "  @keyframes spin {\n",
              "    0% {\n",
              "      border-color: transparent;\n",
              "      border-bottom-color: var(--fill-color);\n",
              "      border-left-color: var(--fill-color);\n",
              "    }\n",
              "    20% {\n",
              "      border-color: transparent;\n",
              "      border-left-color: var(--fill-color);\n",
              "      border-top-color: var(--fill-color);\n",
              "    }\n",
              "    30% {\n",
              "      border-color: transparent;\n",
              "      border-left-color: var(--fill-color);\n",
              "      border-top-color: var(--fill-color);\n",
              "      border-right-color: var(--fill-color);\n",
              "    }\n",
              "    40% {\n",
              "      border-color: transparent;\n",
              "      border-right-color: var(--fill-color);\n",
              "      border-top-color: var(--fill-color);\n",
              "    }\n",
              "    60% {\n",
              "      border-color: transparent;\n",
              "      border-right-color: var(--fill-color);\n",
              "    }\n",
              "    80% {\n",
              "      border-color: transparent;\n",
              "      border-right-color: var(--fill-color);\n",
              "      border-bottom-color: var(--fill-color);\n",
              "    }\n",
              "    90% {\n",
              "      border-color: transparent;\n",
              "      border-bottom-color: var(--fill-color);\n",
              "    }\n",
              "  }\n",
              "</style>\n",
              "\n",
              "  <script>\n",
              "    async function quickchart(key) {\n",
              "      const quickchartButtonEl =\n",
              "        document.querySelector('#' + key + ' button');\n",
              "      quickchartButtonEl.disabled = true;  // To prevent multiple clicks.\n",
              "      quickchartButtonEl.classList.add('colab-df-spinner');\n",
              "      try {\n",
              "        const charts = await google.colab.kernel.invokeFunction(\n",
              "            'suggestCharts', [key], {});\n",
              "      } catch (error) {\n",
              "        console.error('Error during call to suggestCharts:', error);\n",
              "      }\n",
              "      quickchartButtonEl.classList.remove('colab-df-spinner');\n",
              "      quickchartButtonEl.classList.add('colab-df-quickchart-complete');\n",
              "    }\n",
              "    (() => {\n",
              "      let quickchartButtonEl =\n",
              "        document.querySelector('#df-3249651f-7721-48b5-bcaf-251e0ae3f6b1 button');\n",
              "      quickchartButtonEl.style.display =\n",
              "        google.colab.kernel.accessAllowed ? 'block' : 'none';\n",
              "    })();\n",
              "  </script>\n",
              "</div>\n",
              "    </div>\n",
              "  </div>\n"
            ],
            "application/vnd.google.colaboratory.intrinsic+json": {
              "type": "dataframe",
              "variable_name": "df"
            }
          },
          "metadata": {},
          "execution_count": 2
        }
      ]
    },
    {
      "cell_type": "code",
      "source": [
        "import torch\n",
        "import torch.nn as nn\n",
        "import torch.optim as optim\n",
        "from torch.utils.data import DataLoader, TensorDataset"
      ],
      "metadata": {
        "id": "I8ZD96DNkFVA"
      },
      "execution_count": 3,
      "outputs": []
    },
    {
      "cell_type": "code",
      "source": [
        "X = df.drop('fare_amount', axis = 1)\n",
        "y = df[['fare_amount']]"
      ],
      "metadata": {
        "id": "zcS9xO6ikIo6"
      },
      "execution_count": 4,
      "outputs": []
    },
    {
      "cell_type": "code",
      "source": [
        "from sklearn.preprocessing import MinMaxScaler"
      ],
      "metadata": {
        "id": "IvtVZiSlkLG3"
      },
      "execution_count": 5,
      "outputs": []
    },
    {
      "cell_type": "code",
      "source": [
        "scaler_x = MinMaxScaler()\n",
        "scaler_y = MinMaxScaler()"
      ],
      "metadata": {
        "id": "MeWmC8HEkNRB"
      },
      "execution_count": 6,
      "outputs": []
    },
    {
      "cell_type": "code",
      "source": [
        "X = pd.DataFrame(scaler_x.fit_transform(X), columns=X.columns, index=X.index).values\n",
        "y = pd.DataFrame(scaler_y.fit_transform(y), columns=y.columns, index=y.index).values"
      ],
      "metadata": {
        "id": "uzez6JMVkPjd"
      },
      "execution_count": 7,
      "outputs": []
    },
    {
      "cell_type": "code",
      "source": [
        "train_X, val_X, train_Y, val_Y = train_test_split(X, y, test_size=0.2, random_state=42)\n",
        "X_train = torch.tensor(train_X)\n",
        "y_train =  torch.tensor(train_Y)\n",
        "X_val =  torch.tensor(val_X)\n",
        "y_val =  torch.tensor(val_Y)"
      ],
      "metadata": {
        "id": "00u9Qcu8kRsr"
      },
      "execution_count": 8,
      "outputs": []
    },
    {
      "cell_type": "code",
      "source": [
        "training_data = TensorDataset(X_train, y_train)\n",
        "train_loader = DataLoader(training_data, batch_size=32, shuffle=True)\n",
        "\n",
        "val_data = TensorDataset(X_val, y_val)\n",
        "val_loader = DataLoader(val_data, batch_size=32)"
      ],
      "metadata": {
        "id": "a9zTzQxnkUIm"
      },
      "execution_count": 9,
      "outputs": []
    },
    {
      "cell_type": "code",
      "source": [
        "def model_train(model, criterion, optimizer, epochs, train_loader, X_val, y_val):\n",
        "    loss_train = []\n",
        "    loss_val = []\n",
        "    for epoch in range(epochs + 1):\n",
        "        # Training\n",
        "        model.train()\n",
        "        for inputs, targets in train_loader:\n",
        "            optimizer.zero_grad()\n",
        "            outputs = model(inputs)\n",
        "            loss = criterion(outputs, targets.view(-1,1))\n",
        "            loss.backward()\n",
        "            optimizer.step()\n",
        "        # Validation\n",
        "        model.eval()\n",
        "        with torch.no_grad():\n",
        "            val_outputs = model(X_val)\n",
        "            val_loss = criterion(val_outputs, y_val)\n",
        "            if epoch % 50 == 0:\n",
        "              print(f'Epoch {epoch}/{epochs}, Training Loss: {loss.item()}, Validation Loss: {val_loss.item()}')\n",
        "            loss_val.append(val_loss)\n",
        "            loss_train.append(loss)\n",
        "    return loss_train, loss_val"
      ],
      "metadata": {
        "id": "vZUtV5tLkWED"
      },
      "execution_count": 10,
      "outputs": []
    },
    {
      "cell_type": "code",
      "source": [
        "model1 = nn.Sequential(\n",
        "    nn.Linear(X_train.shape[1], 32),\n",
        "    nn.Tanh(),\n",
        "    nn.Linear(32, 1)\n",
        ").to(torch.float64)\n",
        "optimizer1 = optim.SGD(model1.parameters(), lr=0.01)"
      ],
      "metadata": {
        "id": "5NZsmXfbkY-v"
      },
      "execution_count": 11,
      "outputs": []
    },
    {
      "cell_type": "code",
      "source": [
        "import time\n",
        "\n",
        "start_time = time.time()\n",
        "train_loss, val_loss = model_train(model1, nn.MSELoss(), optimizer1, 1000, train_loader, X_val, y_val)\n",
        "end_time = time.time()\n",
        "training_time = end_time - start_time\n",
        "print(f\"Training Time: {training_time} seconds\")"
      ],
      "metadata": {
        "colab": {
          "base_uri": "https://localhost:8080/"
        },
        "id": "c1jx8ywakbTh",
        "outputId": "1712e66f-f50f-412f-ca3c-f93ef2ab1b4c"
      },
      "execution_count": null,
      "outputs": [
        {
          "metadata": {
            "tags": null
          },
          "name": "stdout",
          "output_type": "stream",
          "text": [
            "Epoch 0/1000, Training Loss: 0.0005382164196382274, Validation Loss: 0.000434840077555269\n",
            "Epoch 50/1000, Training Loss: 3.4563302461946034e-05, Validation Loss: 0.00016004840857332378\n",
            "Epoch 100/1000, Training Loss: 0.0001357767038681929, Validation Loss: 0.00015816808178789298\n",
            "Epoch 150/1000, Training Loss: 4.8048005177145847e-05, Validation Loss: 0.00015704488962117898\n",
            "Epoch 200/1000, Training Loss: 0.0002618534648789878, Validation Loss: 0.00015705976367616617\n",
            "Epoch 250/1000, Training Loss: 7.083056782154282e-05, Validation Loss: 0.00015595119225042558\n",
            "Epoch 300/1000, Training Loss: 7.771885469384481e-05, Validation Loss: 0.00015565565153723778\n",
            "Epoch 350/1000, Training Loss: 3.427949858441738e-05, Validation Loss: 0.0001555375152286054\n",
            "Epoch 400/1000, Training Loss: 2.344779575682929e-05, Validation Loss: 0.00015627342494261605\n",
            "Epoch 450/1000, Training Loss: 4.043068301615955e-05, Validation Loss: 0.00015511204685005444\n",
            "Epoch 500/1000, Training Loss: 3.083942723762982e-05, Validation Loss: 0.00015478092048149878\n",
            "Epoch 550/1000, Training Loss: 0.0001051739078947169, Validation Loss: 0.00015450583192473674\n",
            "Epoch 600/1000, Training Loss: 3.3420077033377475e-05, Validation Loss: 0.000154281463692344\n",
            "Epoch 650/1000, Training Loss: 2.052746450574454e-05, Validation Loss: 0.00015423414951831857\n"
          ]
        }
      ]
    },
    {
      "cell_type": "code",
      "source": [
        "torch.save(model1, 'model1.pth')"
      ],
      "metadata": {
        "id": "U2X_ZaiXkfh2"
      },
      "execution_count": null,
      "outputs": []
    },
    {
      "cell_type": "code",
      "source": [
        "import pickle\n",
        "\n",
        "# Save list to a file\n",
        "with open('train_loss1.pkl', 'wb') as file:\n",
        "    pickle.dump(train_loss, file)\n",
        "with open('val_loss1.pkl', 'wb') as file:\n",
        "    pickle.dump(val_loss, file)"
      ],
      "metadata": {
        "id": "7zOXaCQgkjIm"
      },
      "execution_count": null,
      "outputs": []
    },
    {
      "cell_type": "code",
      "source": [
        "model2 =  nn.Sequential(\n",
        "    nn.Linear(X_train.shape[1], 32),\n",
        "    nn.Tanh(),\n",
        "    nn.Linear(32, 64),  # Second hidden layer with 64 neurons\n",
        "    nn.Tanh(),\n",
        "    nn.Linear(64, 16),  # Third hidden layer with 16 neurons\n",
        "    nn.Tanh(),\n",
        "    nn.Linear(16, 1) # Output layer with 1 neuron\n",
        ").to(torch.float64)\n",
        "criterion = nn.MSELoss()\n",
        "optimizer1 = optim.SGD(model2.parameters(), lr=0.01)"
      ],
      "metadata": {
        "id": "WxewgukMkmPh"
      },
      "execution_count": null,
      "outputs": []
    },
    {
      "cell_type": "code",
      "source": [
        "import time\n",
        "\n",
        "start_time = time.time()\n",
        "train_loss2, val_loss2 = model_train(model2, nn.MSELoss(), optimizer1, 1000, train_loader, X_val, y_val)\n",
        "end_time = time.time()\n",
        "training_time = end_time - start_time\n",
        "print(f\"Training Time: {training_time} seconds\")"
      ],
      "metadata": {
        "id": "5GO2Cwh6koJ8"
      },
      "execution_count": null,
      "outputs": []
    },
    {
      "cell_type": "code",
      "source": [
        "torch.save(model2, 'model2.pth')"
      ],
      "metadata": {
        "id": "G8eITnH1kp3g"
      },
      "execution_count": null,
      "outputs": []
    },
    {
      "cell_type": "code",
      "source": [
        "import pickle\n",
        "\n",
        "# Save list to a file\n",
        "with open('train_loss2.pkl', 'wb') as file:\n",
        "    pickle.dump(train_loss2, file)\n",
        "with open('val_loss2.pkl', 'wb') as file:\n",
        "    pickle.dump(val_loss2, file)"
      ],
      "metadata": {
        "id": "b90RLx5ekrxA"
      },
      "execution_count": null,
      "outputs": []
    },
    {
      "cell_type": "markdown",
      "source": [
        "# For more iterations"
      ],
      "metadata": {
        "id": "S_WyeDuEktqh"
      }
    },
    {
      "cell_type": "code",
      "source": [
        "model1 = nn.Sequential(\n",
        "    nn.Linear(X_train.shape[1], 32),\n",
        "    nn.Tanh(),\n",
        "    nn.Linear(32, 1)\n",
        ").to(torch.float64)\n",
        "optimizer1 = optim.SGD(model1.parameters(), lr=0.01)"
      ],
      "metadata": {
        "id": "hdoTptUvkwb-"
      },
      "execution_count": null,
      "outputs": []
    },
    {
      "cell_type": "code",
      "source": [
        "import time\n",
        "\n",
        "start_time = time.time()\n",
        "train_loss_3000, val_loss_3000 = model_train(model1, nn.MSELoss(), optimizer1, 3000, train_loader, X_val, y_val)\n",
        "end_time = time.time()\n",
        "training_time = end_time - start_time\n",
        "print(f\"Training Time: {training_time} seconds\")"
      ],
      "metadata": {
        "id": "OwQX4Fwakyej"
      },
      "execution_count": null,
      "outputs": []
    },
    {
      "cell_type": "code",
      "source": [
        "torch.save(model1, 'model1_3000.pth')"
      ],
      "metadata": {
        "id": "a-I-5Zhyk1Jv"
      },
      "execution_count": null,
      "outputs": []
    },
    {
      "cell_type": "code",
      "source": [
        "import pickle\n",
        "\n",
        "# Save list to a file\n",
        "with open('train_loss1_3000.pkl', 'wb') as file:\n",
        "    pickle.dump(train_loss_3000 , file)\n",
        "with open('val_loss1_3000.pkl', 'wb') as file:\n",
        "    pickle.dump(val_loss_3000, file)"
      ],
      "metadata": {
        "id": "b-ZYkKmCk3Ie"
      },
      "execution_count": null,
      "outputs": []
    },
    {
      "cell_type": "code",
      "source": [
        "model2 =  nn.Sequential(\n",
        "    nn.Linear(X_train.shape[1], 32),\n",
        "    nn.Tanh(),\n",
        "    nn.Linear(32, 64),  # Second hidden layer with 64 neurons\n",
        "    nn.Tanh(),\n",
        "    nn.Linear(64, 16),  # Third hidden layer with 16 neurons\n",
        "    nn.Tanh(),\n",
        "    nn.Linear(16, 1) # Output layer with 1 neuron\n",
        ").to(torch.float64)\n",
        "criterion = nn.MSELoss()\n",
        "optimizer1 = optim.SGD(model2.parameters(), lr=0.1)"
      ],
      "metadata": {
        "id": "rMvpLJTzk45D"
      },
      "execution_count": null,
      "outputs": []
    },
    {
      "cell_type": "code",
      "source": [
        "import time\n",
        "\n",
        "start_time = time.time()\n",
        "train_loss_2_3000, val_loss_2_3000 = model_train(model2, nn.MSELoss(), optimizer1, 3000, train_loader, X_val, y_val)\n",
        "end_time = time.time()\n",
        "training_time = end_time - start_time\n",
        "print(f\"Training Time: {training_time} seconds\")"
      ],
      "metadata": {
        "id": "_iQrZoezk62C"
      },
      "execution_count": null,
      "outputs": []
    },
    {
      "cell_type": "code",
      "source": [
        "\n",
        "torch.save(model2, 'model2_3000.pth')"
      ],
      "metadata": {
        "id": "cfvJY0Erk8nw"
      },
      "execution_count": null,
      "outputs": []
    },
    {
      "cell_type": "code",
      "source": [
        "import pickle\n",
        "\n",
        "# Save list to a file\n",
        "with open('train_loss_2_3000.pkl', 'wb') as file:\n",
        "    pickle.dump(train_loss_2_3000, file)\n",
        "with open('val_loss_2_3000.pkl', 'wb') as file:\n",
        "    pickle.dump(val_loss_2_3000, file)"
      ],
      "metadata": {
        "id": "p9KK5s1Mk-Ys"
      },
      "execution_count": null,
      "outputs": []
    },
    {
      "cell_type": "code",
      "source": [
        "\n",
        "print(model1)"
      ],
      "metadata": {
        "id": "JoU5HIZalAHZ"
      },
      "execution_count": null,
      "outputs": []
    },
    {
      "cell_type": "code",
      "source": [
        "epochs = range(0, 1001, 50)"
      ],
      "metadata": {
        "id": "1hEliEImlCK_"
      },
      "execution_count": null,
      "outputs": []
    },
    {
      "cell_type": "code",
      "source": [
        "def downsample_losses(train_loss, val_loss, step=50):\n",
        "    train_loss_batch = [train_loss[i].detach().item() for i in range(0, len(train_loss), step)]\n",
        "    val_loss_batch = [val_loss[i].detach().item() for i in range(0, len(val_loss), step)]\n",
        "    return train_loss_batch, val_loss_batch"
      ],
      "metadata": {
        "id": "JzCeHqFrlECF"
      },
      "execution_count": null,
      "outputs": []
    },
    {
      "cell_type": "code",
      "source": [
        "train_loss_batch1, val_loss_batch1 = downsample_losses(train_loss, val_loss, step=50)\n",
        "train_loss_batch2, val_loss_batch2 = downsample_losses(train_loss2, val_loss2, step=50)"
      ],
      "metadata": {
        "id": "NjF_2wralF6v"
      },
      "execution_count": null,
      "outputs": []
    },
    {
      "cell_type": "code",
      "source": [
        "plt.figure(figsize=(10, 8))\n",
        "\n",
        "plt.subplot(2,2,1)\n",
        "plt.plot(epochs, train_loss_batch1, color='blue', label = 'training Loss')\n",
        "plt.plot(epochs, val_loss_batch1, color='red', label = 'validation Loss')\n",
        "plt.title('Loss with Learning Rate of 0.01 (1 hidden layer)')\n",
        "plt.legend()\n",
        "\n",
        "plt.subplot(2,2,2)\n",
        "plt.plot(epochs, train_loss_batch2, color='blue', label = 'training Loss')\n",
        "plt.plot(epochs, val_loss_batch2, color='red', label = 'validation Loss')\n",
        "plt.title('Loss with Learning Rate of 0.01 (3 Hidden Layers)')\n",
        "plt.legend()\n",
        "\n",
        "plt.show()"
      ],
      "metadata": {
        "id": "fl-K2-8VlH8M"
      },
      "execution_count": null,
      "outputs": []
    },
    {
      "cell_type": "code",
      "source": [
        "train_loss_batch3, val_loss_batch3 = downsample_losses(train_loss_3000, val_loss_3000, step=50)\n",
        "train_loss_batch4, val_loss_batch4 = downsample_losses(train_loss_2_3000, val_loss_2_3000, step=50)"
      ],
      "metadata": {
        "id": "mJ4FJRzDlKGy"
      },
      "execution_count": null,
      "outputs": []
    },
    {
      "cell_type": "code",
      "source": [
        "epochs = range(0, 3001, 50)"
      ],
      "metadata": {
        "id": "Y-B09oqtlNb6"
      },
      "execution_count": null,
      "outputs": []
    },
    {
      "cell_type": "code",
      "source": [
        "plt.figure(figsize=(10, 8))\n",
        "\n",
        "plt.subplot(2,2,1)\n",
        "plt.plot(epochs, train_loss_batch3, color='blue', label = 'training Loss')\n",
        "plt.plot(epochs, val_loss_batch3, color='red', label = 'validation Loss')\n",
        "plt.title('Loss with Learning Rate of 0.01 (1 hidden layer)')\n",
        "plt.legend()\n",
        "\n",
        "plt.subplot(2,2,2)\n",
        "plt.plot(epochs, train_loss_batch4, color='blue', label = 'training Loss')\n",
        "plt.plot(epochs, val_loss_batch4, color='red', label = 'validation Loss')\n",
        "plt.title('Loss with Learning Rate of 0.01 (3 Hidden Layers)')\n",
        "plt.legend()\n",
        "\n",
        "plt.show()"
      ],
      "metadata": {
        "id": "PTW2mEHalPSW"
      },
      "execution_count": null,
      "outputs": []
    },
    {
      "cell_type": "code",
      "source": [
        "import torch\n",
        "\n",
        "# Specify the path to your saved .pth file\n",
        "model_path = 'model1.pth'\n",
        "\n",
        "# Load the entire model (including architecture and parameters)\n",
        "model = torch.load(model_path)\n",
        "\n",
        "# Ensure the model is in evaluation mode (if it's a trained model)\n",
        "model.eval()\n",
        "\n",
        "# Print the trainable parameters\n",
        "for name, param in model.named_parameters():\n",
        "    if param.requires_grad:\n",
        "        print(name)\n",
        "\n",
        "total_params = sum(p.numel() for p in model.parameters() if p.requires_grad)\n",
        "print(\"Total number of trainable parameters \", total_params,  '\\n')"
      ],
      "metadata": {
        "id": "3W5UfZGDlRz6"
      },
      "execution_count": null,
      "outputs": []
    },
    {
      "cell_type": "code",
      "source": [
        " import torch\n",
        "\n",
        "# Specify the path to your saved .pth file\n",
        "model_path = 'model2.pth'\n",
        "\n",
        "# Load the entire model (including architecture and parameters)\n",
        "model2 = torch.load(model_path)\n",
        "\n",
        "# Ensure the model is in evaluation mode (if it's a trained model)\n",
        "model2.eval()\n",
        "\n",
        "# Print the trainable parameters\n",
        "for name, param in model2.named_parameters():\n",
        "    if param.requires_grad:\n",
        "        print(name)\n",
        "\n",
        "total_params = sum(p.numel() for p in model2.parameters() if p.requires_grad)\n",
        "print(\"Total number of trainable parameters \", total_params,  '\\n')"
      ],
      "metadata": {
        "id": "ZKY_WOJ4lYRO"
      },
      "execution_count": null,
      "outputs": []
    },
    {
      "cell_type": "code",
      "source": [
        "import torch\n",
        "\n",
        "# Specify the path to your saved .pth file\n",
        "model_path = 'model1_3000.pth'\n",
        "\n",
        "# Load the entire model (including architecture and parameters)\n",
        "model1_3k = torch.load(model_path)\n",
        "\n",
        "# Ensure the model is in evaluation mode (if it's a trained model)\n",
        "model1_3k.eval()\n",
        "\n",
        "# Print the trainable parameters\n",
        "for name, param in model1_3k.named_parameters():\n",
        "    if param.requires_grad:\n",
        "        print(name)\n",
        "\n",
        "total_params = sum(p.numel() for p in model1_3k.parameters() if p.requires_grad)\n",
        "print(\"Total number of trainable parameters \", total_params,  '\\n')"
      ],
      "metadata": {
        "id": "uJzWpZshla0Z"
      },
      "execution_count": null,
      "outputs": []
    },
    {
      "cell_type": "code",
      "source": [
        "import torch\n",
        "\n",
        "# Specify the path to your saved .pth file\n",
        "model_path = 'model2_3000.pth'\n",
        "\n",
        "# Load the entire model (including architecture and parameters)\n",
        "model2_3k = torch.load(model_path)\n",
        "\n",
        "# Ensure the model is in evaluation mode (if it's a trained model)\n",
        "model2_3k.eval()\n",
        "\n",
        "# Print the trainable parameters\n",
        "for name, param in model2_3k.named_parameters():\n",
        "    if param.requires_grad:\n",
        "        print(name)\n",
        "\n",
        "total_params = sum(p.numel() for p in model2_3k.parameters() if p.requires_grad)\n",
        "print(\"Total number of trainable parameters \", total_params,  '\\n')"
      ],
      "metadata": {
        "id": "GGrdC2prldPU"
      },
      "execution_count": null,
      "outputs": []
    }
  ]
}