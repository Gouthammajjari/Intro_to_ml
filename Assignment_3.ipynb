{
  "cells": [
    {
      "cell_type": "markdown",
      "metadata": {
        "id": "view-in-github",
        "colab_type": "text"
      },
      "source": [
        "<a href=\"https://colab.research.google.com/github/Gouthammajjari/Intro_to_ml/blob/main/Assignment_3.ipynb\" target=\"_parent\"><img src=\"https://colab.research.google.com/assets/colab-badge.svg\" alt=\"Open In Colab\"/></a>"
      ]
    },
    {
      "cell_type": "code",
      "source": [
        "import os\n",
        "import numpy as np\n",
        "import pandas as pd\n",
        "import matplotlib.pyplot as plt\n",
        "from sklearn.preprocessing import StandardScaler\n",
        "from sklearn.model_selection import train_test_split\n",
        "from sklearn.metrics import accuracy_score, confusion_matrix, precision_recall_curve, precision_score, recall_score, f1_score,average_precision_score, log_loss\n",
        "import warnings\n",
        "warnings.filterwarnings(\"ignore\")\n",
        "from sklearn.metrics import ConfusionMatrixDisplay\n"
      ],
      "metadata": {
        "id": "8UvpALWTvyzY"
      },
      "execution_count": 2,
      "outputs": []
    },
    {
      "cell_type": "code",
      "source": [
        "import pandas as pd\n"
      ],
      "metadata": {
        "id": "KIxsKslFtxwh"
      },
      "execution_count": 3,
      "outputs": []
    },
    {
      "cell_type": "markdown",
      "source": [
        "Problem 1\n",
        "(i)\n"
      ],
      "metadata": {
        "id": "eDa8cpRf1_3Q"
      }
    },
    {
      "cell_type": "code",
      "source": [
        "from sklearn.datasets import load_breast_cancer\n",
        "breast = load_breast_cancer()\n",
        "X = breast.data\n",
        "print(X.shape)\n",
        "y = breast.target\n"
      ],
      "metadata": {
        "id": "7_9lImLHuTF-",
        "outputId": "ab438acc-fda1-41c9-83de-487e7a06b12f",
        "colab": {
          "base_uri": "https://localhost:8080/"
        }
      },
      "execution_count": 4,
      "outputs": [
        {
          "output_type": "stream",
          "name": "stdout",
          "text": [
            "(569, 30)\n"
          ]
        }
      ]
    },
    {
      "cell_type": "code",
      "source": [
        "data = pd.DataFrame(X)\n",
        "data.head()"
      ],
      "metadata": {
        "id": "cjziNFmnuyYf",
        "outputId": "0945ac6a-5501-4c70-c0f7-109626cd1a1d",
        "colab": {
          "base_uri": "https://localhost:8080/",
          "height": 236
        }
      },
      "execution_count": 5,
      "outputs": [
        {
          "output_type": "execute_result",
          "data": {
            "text/plain": [
              "      0      1       2       3        4        5       6        7       8   \\\n",
              "0  17.99  10.38  122.80  1001.0  0.11840  0.27760  0.3001  0.14710  0.2419   \n",
              "1  20.57  17.77  132.90  1326.0  0.08474  0.07864  0.0869  0.07017  0.1812   \n",
              "2  19.69  21.25  130.00  1203.0  0.10960  0.15990  0.1974  0.12790  0.2069   \n",
              "3  11.42  20.38   77.58   386.1  0.14250  0.28390  0.2414  0.10520  0.2597   \n",
              "4  20.29  14.34  135.10  1297.0  0.10030  0.13280  0.1980  0.10430  0.1809   \n",
              "\n",
              "        9   ...     20     21      22      23      24      25      26      27  \\\n",
              "0  0.07871  ...  25.38  17.33  184.60  2019.0  0.1622  0.6656  0.7119  0.2654   \n",
              "1  0.05667  ...  24.99  23.41  158.80  1956.0  0.1238  0.1866  0.2416  0.1860   \n",
              "2  0.05999  ...  23.57  25.53  152.50  1709.0  0.1444  0.4245  0.4504  0.2430   \n",
              "3  0.09744  ...  14.91  26.50   98.87   567.7  0.2098  0.8663  0.6869  0.2575   \n",
              "4  0.05883  ...  22.54  16.67  152.20  1575.0  0.1374  0.2050  0.4000  0.1625   \n",
              "\n",
              "       28       29  \n",
              "0  0.4601  0.11890  \n",
              "1  0.2750  0.08902  \n",
              "2  0.3613  0.08758  \n",
              "3  0.6638  0.17300  \n",
              "4  0.2364  0.07678  \n",
              "\n",
              "[5 rows x 30 columns]"
            ],
            "text/html": [
              "\n",
              "  <div id=\"df-cf3faa5b-6245-40e4-95ac-c572675106df\" class=\"colab-df-container\">\n",
              "    <div>\n",
              "<style scoped>\n",
              "    .dataframe tbody tr th:only-of-type {\n",
              "        vertical-align: middle;\n",
              "    }\n",
              "\n",
              "    .dataframe tbody tr th {\n",
              "        vertical-align: top;\n",
              "    }\n",
              "\n",
              "    .dataframe thead th {\n",
              "        text-align: right;\n",
              "    }\n",
              "</style>\n",
              "<table border=\"1\" class=\"dataframe\">\n",
              "  <thead>\n",
              "    <tr style=\"text-align: right;\">\n",
              "      <th></th>\n",
              "      <th>0</th>\n",
              "      <th>1</th>\n",
              "      <th>2</th>\n",
              "      <th>3</th>\n",
              "      <th>4</th>\n",
              "      <th>5</th>\n",
              "      <th>6</th>\n",
              "      <th>7</th>\n",
              "      <th>8</th>\n",
              "      <th>9</th>\n",
              "      <th>...</th>\n",
              "      <th>20</th>\n",
              "      <th>21</th>\n",
              "      <th>22</th>\n",
              "      <th>23</th>\n",
              "      <th>24</th>\n",
              "      <th>25</th>\n",
              "      <th>26</th>\n",
              "      <th>27</th>\n",
              "      <th>28</th>\n",
              "      <th>29</th>\n",
              "    </tr>\n",
              "  </thead>\n",
              "  <tbody>\n",
              "    <tr>\n",
              "      <th>0</th>\n",
              "      <td>17.99</td>\n",
              "      <td>10.38</td>\n",
              "      <td>122.80</td>\n",
              "      <td>1001.0</td>\n",
              "      <td>0.11840</td>\n",
              "      <td>0.27760</td>\n",
              "      <td>0.3001</td>\n",
              "      <td>0.14710</td>\n",
              "      <td>0.2419</td>\n",
              "      <td>0.07871</td>\n",
              "      <td>...</td>\n",
              "      <td>25.38</td>\n",
              "      <td>17.33</td>\n",
              "      <td>184.60</td>\n",
              "      <td>2019.0</td>\n",
              "      <td>0.1622</td>\n",
              "      <td>0.6656</td>\n",
              "      <td>0.7119</td>\n",
              "      <td>0.2654</td>\n",
              "      <td>0.4601</td>\n",
              "      <td>0.11890</td>\n",
              "    </tr>\n",
              "    <tr>\n",
              "      <th>1</th>\n",
              "      <td>20.57</td>\n",
              "      <td>17.77</td>\n",
              "      <td>132.90</td>\n",
              "      <td>1326.0</td>\n",
              "      <td>0.08474</td>\n",
              "      <td>0.07864</td>\n",
              "      <td>0.0869</td>\n",
              "      <td>0.07017</td>\n",
              "      <td>0.1812</td>\n",
              "      <td>0.05667</td>\n",
              "      <td>...</td>\n",
              "      <td>24.99</td>\n",
              "      <td>23.41</td>\n",
              "      <td>158.80</td>\n",
              "      <td>1956.0</td>\n",
              "      <td>0.1238</td>\n",
              "      <td>0.1866</td>\n",
              "      <td>0.2416</td>\n",
              "      <td>0.1860</td>\n",
              "      <td>0.2750</td>\n",
              "      <td>0.08902</td>\n",
              "    </tr>\n",
              "    <tr>\n",
              "      <th>2</th>\n",
              "      <td>19.69</td>\n",
              "      <td>21.25</td>\n",
              "      <td>130.00</td>\n",
              "      <td>1203.0</td>\n",
              "      <td>0.10960</td>\n",
              "      <td>0.15990</td>\n",
              "      <td>0.1974</td>\n",
              "      <td>0.12790</td>\n",
              "      <td>0.2069</td>\n",
              "      <td>0.05999</td>\n",
              "      <td>...</td>\n",
              "      <td>23.57</td>\n",
              "      <td>25.53</td>\n",
              "      <td>152.50</td>\n",
              "      <td>1709.0</td>\n",
              "      <td>0.1444</td>\n",
              "      <td>0.4245</td>\n",
              "      <td>0.4504</td>\n",
              "      <td>0.2430</td>\n",
              "      <td>0.3613</td>\n",
              "      <td>0.08758</td>\n",
              "    </tr>\n",
              "    <tr>\n",
              "      <th>3</th>\n",
              "      <td>11.42</td>\n",
              "      <td>20.38</td>\n",
              "      <td>77.58</td>\n",
              "      <td>386.1</td>\n",
              "      <td>0.14250</td>\n",
              "      <td>0.28390</td>\n",
              "      <td>0.2414</td>\n",
              "      <td>0.10520</td>\n",
              "      <td>0.2597</td>\n",
              "      <td>0.09744</td>\n",
              "      <td>...</td>\n",
              "      <td>14.91</td>\n",
              "      <td>26.50</td>\n",
              "      <td>98.87</td>\n",
              "      <td>567.7</td>\n",
              "      <td>0.2098</td>\n",
              "      <td>0.8663</td>\n",
              "      <td>0.6869</td>\n",
              "      <td>0.2575</td>\n",
              "      <td>0.6638</td>\n",
              "      <td>0.17300</td>\n",
              "    </tr>\n",
              "    <tr>\n",
              "      <th>4</th>\n",
              "      <td>20.29</td>\n",
              "      <td>14.34</td>\n",
              "      <td>135.10</td>\n",
              "      <td>1297.0</td>\n",
              "      <td>0.10030</td>\n",
              "      <td>0.13280</td>\n",
              "      <td>0.1980</td>\n",
              "      <td>0.10430</td>\n",
              "      <td>0.1809</td>\n",
              "      <td>0.05883</td>\n",
              "      <td>...</td>\n",
              "      <td>22.54</td>\n",
              "      <td>16.67</td>\n",
              "      <td>152.20</td>\n",
              "      <td>1575.0</td>\n",
              "      <td>0.1374</td>\n",
              "      <td>0.2050</td>\n",
              "      <td>0.4000</td>\n",
              "      <td>0.1625</td>\n",
              "      <td>0.2364</td>\n",
              "      <td>0.07678</td>\n",
              "    </tr>\n",
              "  </tbody>\n",
              "</table>\n",
              "<p>5 rows × 30 columns</p>\n",
              "</div>\n",
              "    <div class=\"colab-df-buttons\">\n",
              "\n",
              "  <div class=\"colab-df-container\">\n",
              "    <button class=\"colab-df-convert\" onclick=\"convertToInteractive('df-cf3faa5b-6245-40e4-95ac-c572675106df')\"\n",
              "            title=\"Convert this dataframe to an interactive table.\"\n",
              "            style=\"display:none;\">\n",
              "\n",
              "  <svg xmlns=\"http://www.w3.org/2000/svg\" height=\"24px\" viewBox=\"0 -960 960 960\">\n",
              "    <path d=\"M120-120v-720h720v720H120Zm60-500h600v-160H180v160Zm220 220h160v-160H400v160Zm0 220h160v-160H400v160ZM180-400h160v-160H180v160Zm440 0h160v-160H620v160ZM180-180h160v-160H180v160Zm440 0h160v-160H620v160Z\"/>\n",
              "  </svg>\n",
              "    </button>\n",
              "\n",
              "  <style>\n",
              "    .colab-df-container {\n",
              "      display:flex;\n",
              "      gap: 12px;\n",
              "    }\n",
              "\n",
              "    .colab-df-convert {\n",
              "      background-color: #E8F0FE;\n",
              "      border: none;\n",
              "      border-radius: 50%;\n",
              "      cursor: pointer;\n",
              "      display: none;\n",
              "      fill: #1967D2;\n",
              "      height: 32px;\n",
              "      padding: 0 0 0 0;\n",
              "      width: 32px;\n",
              "    }\n",
              "\n",
              "    .colab-df-convert:hover {\n",
              "      background-color: #E2EBFA;\n",
              "      box-shadow: 0px 1px 2px rgba(60, 64, 67, 0.3), 0px 1px 3px 1px rgba(60, 64, 67, 0.15);\n",
              "      fill: #174EA6;\n",
              "    }\n",
              "\n",
              "    .colab-df-buttons div {\n",
              "      margin-bottom: 4px;\n",
              "    }\n",
              "\n",
              "    [theme=dark] .colab-df-convert {\n",
              "      background-color: #3B4455;\n",
              "      fill: #D2E3FC;\n",
              "    }\n",
              "\n",
              "    [theme=dark] .colab-df-convert:hover {\n",
              "      background-color: #434B5C;\n",
              "      box-shadow: 0px 1px 3px 1px rgba(0, 0, 0, 0.15);\n",
              "      filter: drop-shadow(0px 1px 2px rgba(0, 0, 0, 0.3));\n",
              "      fill: #FFFFFF;\n",
              "    }\n",
              "  </style>\n",
              "\n",
              "    <script>\n",
              "      const buttonEl =\n",
              "        document.querySelector('#df-cf3faa5b-6245-40e4-95ac-c572675106df button.colab-df-convert');\n",
              "      buttonEl.style.display =\n",
              "        google.colab.kernel.accessAllowed ? 'block' : 'none';\n",
              "\n",
              "      async function convertToInteractive(key) {\n",
              "        const element = document.querySelector('#df-cf3faa5b-6245-40e4-95ac-c572675106df');\n",
              "        const dataTable =\n",
              "          await google.colab.kernel.invokeFunction('convertToInteractive',\n",
              "                                                    [key], {});\n",
              "        if (!dataTable) return;\n",
              "\n",
              "        const docLinkHtml = 'Like what you see? Visit the ' +\n",
              "          '<a target=\"_blank\" href=https://colab.research.google.com/notebooks/data_table.ipynb>data table notebook</a>'\n",
              "          + ' to learn more about interactive tables.';\n",
              "        element.innerHTML = '';\n",
              "        dataTable['output_type'] = 'display_data';\n",
              "        await google.colab.output.renderOutput(dataTable, element);\n",
              "        const docLink = document.createElement('div');\n",
              "        docLink.innerHTML = docLinkHtml;\n",
              "        element.appendChild(docLink);\n",
              "      }\n",
              "    </script>\n",
              "  </div>\n",
              "\n",
              "\n",
              "<div id=\"df-4a2b6dba-3f97-40e1-a7ec-f1ec4801b5cb\">\n",
              "  <button class=\"colab-df-quickchart\" onclick=\"quickchart('df-4a2b6dba-3f97-40e1-a7ec-f1ec4801b5cb')\"\n",
              "            title=\"Suggest charts\"\n",
              "            style=\"display:none;\">\n",
              "\n",
              "<svg xmlns=\"http://www.w3.org/2000/svg\" height=\"24px\"viewBox=\"0 0 24 24\"\n",
              "     width=\"24px\">\n",
              "    <g>\n",
              "        <path d=\"M19 3H5c-1.1 0-2 .9-2 2v14c0 1.1.9 2 2 2h14c1.1 0 2-.9 2-2V5c0-1.1-.9-2-2-2zM9 17H7v-7h2v7zm4 0h-2V7h2v10zm4 0h-2v-4h2v4z\"/>\n",
              "    </g>\n",
              "</svg>\n",
              "  </button>\n",
              "\n",
              "<style>\n",
              "  .colab-df-quickchart {\n",
              "      --bg-color: #E8F0FE;\n",
              "      --fill-color: #1967D2;\n",
              "      --hover-bg-color: #E2EBFA;\n",
              "      --hover-fill-color: #174EA6;\n",
              "      --disabled-fill-color: #AAA;\n",
              "      --disabled-bg-color: #DDD;\n",
              "  }\n",
              "\n",
              "  [theme=dark] .colab-df-quickchart {\n",
              "      --bg-color: #3B4455;\n",
              "      --fill-color: #D2E3FC;\n",
              "      --hover-bg-color: #434B5C;\n",
              "      --hover-fill-color: #FFFFFF;\n",
              "      --disabled-bg-color: #3B4455;\n",
              "      --disabled-fill-color: #666;\n",
              "  }\n",
              "\n",
              "  .colab-df-quickchart {\n",
              "    background-color: var(--bg-color);\n",
              "    border: none;\n",
              "    border-radius: 50%;\n",
              "    cursor: pointer;\n",
              "    display: none;\n",
              "    fill: var(--fill-color);\n",
              "    height: 32px;\n",
              "    padding: 0;\n",
              "    width: 32px;\n",
              "  }\n",
              "\n",
              "  .colab-df-quickchart:hover {\n",
              "    background-color: var(--hover-bg-color);\n",
              "    box-shadow: 0 1px 2px rgba(60, 64, 67, 0.3), 0 1px 3px 1px rgba(60, 64, 67, 0.15);\n",
              "    fill: var(--button-hover-fill-color);\n",
              "  }\n",
              "\n",
              "  .colab-df-quickchart-complete:disabled,\n",
              "  .colab-df-quickchart-complete:disabled:hover {\n",
              "    background-color: var(--disabled-bg-color);\n",
              "    fill: var(--disabled-fill-color);\n",
              "    box-shadow: none;\n",
              "  }\n",
              "\n",
              "  .colab-df-spinner {\n",
              "    border: 2px solid var(--fill-color);\n",
              "    border-color: transparent;\n",
              "    border-bottom-color: var(--fill-color);\n",
              "    animation:\n",
              "      spin 1s steps(1) infinite;\n",
              "  }\n",
              "\n",
              "  @keyframes spin {\n",
              "    0% {\n",
              "      border-color: transparent;\n",
              "      border-bottom-color: var(--fill-color);\n",
              "      border-left-color: var(--fill-color);\n",
              "    }\n",
              "    20% {\n",
              "      border-color: transparent;\n",
              "      border-left-color: var(--fill-color);\n",
              "      border-top-color: var(--fill-color);\n",
              "    }\n",
              "    30% {\n",
              "      border-color: transparent;\n",
              "      border-left-color: var(--fill-color);\n",
              "      border-top-color: var(--fill-color);\n",
              "      border-right-color: var(--fill-color);\n",
              "    }\n",
              "    40% {\n",
              "      border-color: transparent;\n",
              "      border-right-color: var(--fill-color);\n",
              "      border-top-color: var(--fill-color);\n",
              "    }\n",
              "    60% {\n",
              "      border-color: transparent;\n",
              "      border-right-color: var(--fill-color);\n",
              "    }\n",
              "    80% {\n",
              "      border-color: transparent;\n",
              "      border-right-color: var(--fill-color);\n",
              "      border-bottom-color: var(--fill-color);\n",
              "    }\n",
              "    90% {\n",
              "      border-color: transparent;\n",
              "      border-bottom-color: var(--fill-color);\n",
              "    }\n",
              "  }\n",
              "</style>\n",
              "\n",
              "  <script>\n",
              "    async function quickchart(key) {\n",
              "      const quickchartButtonEl =\n",
              "        document.querySelector('#' + key + ' button');\n",
              "      quickchartButtonEl.disabled = true;  // To prevent multiple clicks.\n",
              "      quickchartButtonEl.classList.add('colab-df-spinner');\n",
              "      try {\n",
              "        const charts = await google.colab.kernel.invokeFunction(\n",
              "            'suggestCharts', [key], {});\n",
              "      } catch (error) {\n",
              "        console.error('Error during call to suggestCharts:', error);\n",
              "      }\n",
              "      quickchartButtonEl.classList.remove('colab-df-spinner');\n",
              "      quickchartButtonEl.classList.add('colab-df-quickchart-complete');\n",
              "    }\n",
              "    (() => {\n",
              "      let quickchartButtonEl =\n",
              "        document.querySelector('#df-4a2b6dba-3f97-40e1-a7ec-f1ec4801b5cb button');\n",
              "      quickchartButtonEl.style.display =\n",
              "        google.colab.kernel.accessAllowed ? 'block' : 'none';\n",
              "    })();\n",
              "  </script>\n",
              "</div>\n",
              "    </div>\n",
              "  </div>\n"
            ],
            "application/vnd.google.colaboratory.intrinsic+json": {
              "type": "dataframe",
              "variable_name": "data"
            }
          },
          "metadata": {},
          "execution_count": 5
        }
      ]
    },
    {
      "cell_type": "code",
      "source": [
        "# We specify this so that the train and test data set always have the same rows, respectively\n",
        "np.random.seed(9)\n",
        "X_train, X_test, y_train, y_test = train_test_split(X,\n",
        "                                                   y,\n",
        "                                                   train_size = 0.8,\n",
        "                                                   test_size = 0.20,\n",
        "                                                   random_state = 100)\n",
        "X_train.shape, X_test.shape, y_train.shape, y_test.shape"
      ],
      "metadata": {
        "id": "NS2JflcMycoK",
        "outputId": "c7328378-cdf4-4757-f2ef-ed1576c8f13d",
        "colab": {
          "base_uri": "https://localhost:8080/"
        }
      },
      "execution_count": 6,
      "outputs": [
        {
          "output_type": "execute_result",
          "data": {
            "text/plain": [
              "((455, 30), (114, 30), (455,), (114,))"
            ]
          },
          "metadata": {},
          "execution_count": 6
        }
      ]
    },
    {
      "cell_type": "code",
      "source": [
        "\n",
        "scale= StandardScaler()\n",
        "X_train_scaled = scale.fit_transform(X_train) # standardization of dependent variables\n",
        "X_train_scaled.shape\n"
      ],
      "metadata": {
        "id": "0kGMAa-Yyrud",
        "outputId": "5e0c424d-6b29-4c89-cf52-7ca0b7134dbb",
        "colab": {
          "base_uri": "https://localhost:8080/"
        }
      },
      "execution_count": 7,
      "outputs": [
        {
          "output_type": "execute_result",
          "data": {
            "text/plain": [
              "(455, 30)"
            ]
          },
          "metadata": {},
          "execution_count": 7
        }
      ]
    },
    {
      "cell_type": "code",
      "source": [
        "from sklearn.linear_model import LogisticRegression\n",
        "\n",
        "model = LogisticRegression()\n",
        "\n",
        "model.fit(X_train_scaled, y_train)"
      ],
      "metadata": {
        "id": "C4qlXkzDywD1",
        "outputId": "55106bd0-47d8-4bf2-940a-a619eb4785e0",
        "colab": {
          "base_uri": "https://localhost:8080/",
          "height": 75
        }
      },
      "execution_count": 8,
      "outputs": [
        {
          "output_type": "execute_result",
          "data": {
            "text/plain": [
              "LogisticRegression()"
            ],
            "text/html": [
              "<style>#sk-container-id-1 {color: black;background-color: white;}#sk-container-id-1 pre{padding: 0;}#sk-container-id-1 div.sk-toggleable {background-color: white;}#sk-container-id-1 label.sk-toggleable__label {cursor: pointer;display: block;width: 100%;margin-bottom: 0;padding: 0.3em;box-sizing: border-box;text-align: center;}#sk-container-id-1 label.sk-toggleable__label-arrow:before {content: \"▸\";float: left;margin-right: 0.25em;color: #696969;}#sk-container-id-1 label.sk-toggleable__label-arrow:hover:before {color: black;}#sk-container-id-1 div.sk-estimator:hover label.sk-toggleable__label-arrow:before {color: black;}#sk-container-id-1 div.sk-toggleable__content {max-height: 0;max-width: 0;overflow: hidden;text-align: left;background-color: #f0f8ff;}#sk-container-id-1 div.sk-toggleable__content pre {margin: 0.2em;color: black;border-radius: 0.25em;background-color: #f0f8ff;}#sk-container-id-1 input.sk-toggleable__control:checked~div.sk-toggleable__content {max-height: 200px;max-width: 100%;overflow: auto;}#sk-container-id-1 input.sk-toggleable__control:checked~label.sk-toggleable__label-arrow:before {content: \"▾\";}#sk-container-id-1 div.sk-estimator input.sk-toggleable__control:checked~label.sk-toggleable__label {background-color: #d4ebff;}#sk-container-id-1 div.sk-label input.sk-toggleable__control:checked~label.sk-toggleable__label {background-color: #d4ebff;}#sk-container-id-1 input.sk-hidden--visually {border: 0;clip: rect(1px 1px 1px 1px);clip: rect(1px, 1px, 1px, 1px);height: 1px;margin: -1px;overflow: hidden;padding: 0;position: absolute;width: 1px;}#sk-container-id-1 div.sk-estimator {font-family: monospace;background-color: #f0f8ff;border: 1px dotted black;border-radius: 0.25em;box-sizing: border-box;margin-bottom: 0.5em;}#sk-container-id-1 div.sk-estimator:hover {background-color: #d4ebff;}#sk-container-id-1 div.sk-parallel-item::after {content: \"\";width: 100%;border-bottom: 1px solid gray;flex-grow: 1;}#sk-container-id-1 div.sk-label:hover label.sk-toggleable__label {background-color: #d4ebff;}#sk-container-id-1 div.sk-serial::before {content: \"\";position: absolute;border-left: 1px solid gray;box-sizing: border-box;top: 0;bottom: 0;left: 50%;z-index: 0;}#sk-container-id-1 div.sk-serial {display: flex;flex-direction: column;align-items: center;background-color: white;padding-right: 0.2em;padding-left: 0.2em;position: relative;}#sk-container-id-1 div.sk-item {position: relative;z-index: 1;}#sk-container-id-1 div.sk-parallel {display: flex;align-items: stretch;justify-content: center;background-color: white;position: relative;}#sk-container-id-1 div.sk-item::before, #sk-container-id-1 div.sk-parallel-item::before {content: \"\";position: absolute;border-left: 1px solid gray;box-sizing: border-box;top: 0;bottom: 0;left: 50%;z-index: -1;}#sk-container-id-1 div.sk-parallel-item {display: flex;flex-direction: column;z-index: 1;position: relative;background-color: white;}#sk-container-id-1 div.sk-parallel-item:first-child::after {align-self: flex-end;width: 50%;}#sk-container-id-1 div.sk-parallel-item:last-child::after {align-self: flex-start;width: 50%;}#sk-container-id-1 div.sk-parallel-item:only-child::after {width: 0;}#sk-container-id-1 div.sk-dashed-wrapped {border: 1px dashed gray;margin: 0 0.4em 0.5em 0.4em;box-sizing: border-box;padding-bottom: 0.4em;background-color: white;}#sk-container-id-1 div.sk-label label {font-family: monospace;font-weight: bold;display: inline-block;line-height: 1.2em;}#sk-container-id-1 div.sk-label-container {text-align: center;}#sk-container-id-1 div.sk-container {/* jupyter's `normalize.less` sets `[hidden] { display: none; }` but bootstrap.min.css set `[hidden] { display: none !important; }` so we also need the `!important` here to be able to override the default hidden behavior on the sphinx rendered scikit-learn.org. See: https://github.com/scikit-learn/scikit-learn/issues/21755 */display: inline-block !important;position: relative;}#sk-container-id-1 div.sk-text-repr-fallback {display: none;}</style><div id=\"sk-container-id-1\" class=\"sk-top-container\"><div class=\"sk-text-repr-fallback\"><pre>LogisticRegression()</pre><b>In a Jupyter environment, please rerun this cell to show the HTML representation or trust the notebook. <br />On GitHub, the HTML representation is unable to render, please try loading this page with nbviewer.org.</b></div><div class=\"sk-container\" hidden><div class=\"sk-item\"><div class=\"sk-estimator sk-toggleable\"><input class=\"sk-toggleable__control sk-hidden--visually\" id=\"sk-estimator-id-1\" type=\"checkbox\" checked><label for=\"sk-estimator-id-1\" class=\"sk-toggleable__label sk-toggleable__label-arrow\">LogisticRegression</label><div class=\"sk-toggleable__content\"><pre>LogisticRegression()</pre></div></div></div></div></div>"
            ]
          },
          "metadata": {},
          "execution_count": 8
        }
      ]
    },
    {
      "cell_type": "code",
      "source": [
        "model.score(X_train_scaled, y_train)\n"
      ],
      "metadata": {
        "id": "A1oDDZPVyxOH",
        "outputId": "d6b5f3f5-5229-4bb4-c1c1-44f87fcdbe45",
        "colab": {
          "base_uri": "https://localhost:8080/"
        }
      },
      "execution_count": 9,
      "outputs": [
        {
          "output_type": "execute_result",
          "data": {
            "text/plain": [
              "0.9934065934065934"
            ]
          },
          "metadata": {},
          "execution_count": 9
        }
      ]
    },
    {
      "cell_type": "code",
      "source": [
        "\n",
        "X_test_scaled = scale.transform(X_test)\n",
        "y_pred = model.predict(X_test_scaled)"
      ],
      "metadata": {
        "id": "AVcztUBHyz7-"
      },
      "execution_count": 10,
      "outputs": []
    },
    {
      "cell_type": "code",
      "source": [
        "cnf_matrix = confusion_matrix(y_test, y_pred)\n"
      ],
      "metadata": {
        "id": "wLtBLwdqy2pB"
      },
      "execution_count": 11,
      "outputs": []
    },
    {
      "cell_type": "code",
      "source": [
        "accuracy_score(y_test, y_pred),  recall_score(y_test, y_pred),precision_score(y_test, y_pred), f1_score(y_test, y_pred)\n"
      ],
      "metadata": {
        "id": "SzBzwdnSy66_",
        "outputId": "aac9fe1d-a790-4f4a-d083-dcc97734da06",
        "colab": {
          "base_uri": "https://localhost:8080/"
        }
      },
      "execution_count": 12,
      "outputs": [
        {
          "output_type": "execute_result",
          "data": {
            "text/plain": [
              "(0.9736842105263158, 1.0, 0.9558823529411765, 0.9774436090225563)"
            ]
          },
          "metadata": {},
          "execution_count": 12
        }
      ]
    },
    {
      "cell_type": "code",
      "source": [
        "\n",
        "disp = ConfusionMatrixDisplay(confusion_matrix = cnf_matrix,\n",
        "                             display_labels = ['B', 'M'])\n",
        "disp.plot()"
      ],
      "metadata": {
        "id": "b6V4aSkGy_xw",
        "outputId": "7858056d-82b2-4af5-b1f3-6e873eeb3d34",
        "colab": {
          "base_uri": "https://localhost:8080/",
          "height": 467
        }
      },
      "execution_count": 13,
      "outputs": [
        {
          "output_type": "execute_result",
          "data": {
            "text/plain": [
              "<sklearn.metrics._plot.confusion_matrix.ConfusionMatrixDisplay at 0x7d30118ebd60>"
            ]
          },
          "metadata": {},
          "execution_count": 13
        },
        {
          "output_type": "display_data",
          "data": {
            "text/plain": [
              "<Figure size 640x480 with 2 Axes>"
            ],
            "image/png": "[encoded data removed]"
          },
          "metadata": {}
        }
      ]
    },
    {
      "cell_type": "code",
      "source": [
        "probs = model.predict_proba(X_test_scaled)\n",
        "precision, recall,  thersholds = precision_recall_curve(y_test, probs[:,1])"
      ],
      "metadata": {
        "id": "ST6AQRRDzKh3"
      },
      "execution_count": 14,
      "outputs": []
    },
    {
      "cell_type": "code",
      "source": [
        "plt.figure(figsize=(8, 6))\n",
        "plt.plot(precision, recall, marker='.')\n",
        "plt.xlabel('Precision')\n",
        "plt.ylabel('Recall')\n",
        "plt.title('Precision-Recall Curve')\n",
        "plt.grid(True)\n",
        "plt.show()"
      ],
      "metadata": {
        "id": "ObI1VOyOzLgg",
        "outputId": "08523d52-7a24-4b20-e07a-89b6e6c57dc4",
        "colab": {
          "base_uri": "https://localhost:8080/",
          "height": 564
        }
      },
      "execution_count": 15,
      "outputs": [
        {
          "output_type": "display_data",
          "data": {
            "text/plain": [
              "<Figure size 800x600 with 1 Axes>"
            ],
            "image/png": "[encoded data removed]"
          },
          "metadata": {}
        }
      ]
    },
    {
      "cell_type": "code",
      "source": [
        "\n",
        "y_pred_prob = model.predict_proba(X_test)\n",
        "log_loss(y_test, y_pred_prob)"
      ],
      "metadata": {
        "id": "Mgh8IoSZzPIs",
        "outputId": "66d2e01c-4b9d-4381-b9b7-c40a6d581480",
        "colab": {
          "base_uri": "https://localhost:8080/"
        }
      },
      "execution_count": 16,
      "outputs": [
        {
          "output_type": "execute_result",
          "data": {
            "text/plain": [
              "20.551205879759774"
            ]
          },
          "metadata": {},
          "execution_count": 16
        }
      ]
    },
    {
      "cell_type": "markdown",
      "source": [
        "Problem 1\n",
        "(ii)"
      ],
      "metadata": {
        "id": "ZLI4nVHpzUDD"
      }
    },
    {
      "cell_type": "markdown",
      "source": [
        "Adding Regularizations"
      ],
      "metadata": {
        "id": "eS7989jK2aF-"
      }
    },
    {
      "cell_type": "code",
      "source": [
        "C = [10, 1, .1, .001]\n",
        "\n",
        "for c in C:\n",
        "    model = LogisticRegression(penalty='l1', C=c, solver='liblinear')\n",
        "    model.fit(X_train_scaled, y_train)\n",
        "    print('C:', c)\n",
        "    y_pred = model.predict(X_test_scaled)\n",
        "    print(\"Accuracy Score: \", accuracy_score(y_test, y_pred),\n",
        "         \"\\nPrecision Score: \", precision_score(y_test, y_pred),\n",
        "         \"\\nRecall Score: \", recall_score(y_test, y_pred),\n",
        "          \"\\nF1 Score: \", f1_score(y_test, y_pred))\n",
        "    print('Training accuracy:', model.score(X_train_scaled, y_train))\n",
        "    print('Test accuracy:', model.score(X_test_scaled, y_test))\n",
        "    print('')"
      ],
      "metadata": {
        "id": "f7aW3mvbzV5F",
        "outputId": "4525bc84-f3af-4098-bf13-6016f926dcff",
        "colab": {
          "base_uri": "https://localhost:8080/"
        }
      },
      "execution_count": 17,
      "outputs": [
        {
          "output_type": "stream",
          "name": "stdout",
          "text": [
            "C: 10\n",
            "Accuracy Score:  0.9649122807017544 \n",
            "Precision Score:  0.9552238805970149 \n",
            "Recall Score:  0.9846153846153847 \n",
            "F1 Score:  0.9696969696969696\n",
            "Training accuracy: 0.9934065934065934\n",
            "Test accuracy: 0.9649122807017544\n",
            "\n",
            "C: 1\n",
            "Accuracy Score:  0.9649122807017544 \n",
            "Precision Score:  0.9420289855072463 \n",
            "Recall Score:  1.0 \n",
            "F1 Score:  0.9701492537313433\n",
            "Training accuracy: 0.9912087912087912\n",
            "Test accuracy: 0.9649122807017544\n",
            "\n",
            "C: 0.1\n",
            "Accuracy Score:  0.9649122807017544 \n",
            "Precision Score:  0.9420289855072463 \n",
            "Recall Score:  1.0 \n",
            "F1 Score:  0.9701492537313433\n",
            "Training accuracy: 0.978021978021978\n",
            "Test accuracy: 0.9649122807017544\n",
            "\n",
            "C: 0.001\n",
            "Accuracy Score:  0.4298245614035088 \n",
            "Precision Score:  0.0 \n",
            "Recall Score:  0.0 \n",
            "F1 Score:  0.0\n",
            "Training accuracy: 0.35824175824175825\n",
            "Test accuracy: 0.4298245614035088\n",
            "\n"
          ]
        }
      ]
    },
    {
      "cell_type": "code",
      "source": [
        "C = [10, 1, .1, .001]\n",
        "for c in C:\n",
        "    model = LogisticRegression(penalty='l1', C=c, solver='liblinear')\n",
        "    model.fit(X_train_scaled, y_train)\n",
        "    print('C:', c)\n",
        "    print('Coefficients:', model.coef_)\n",
        "    print('Training accuracy:', model.score(X_train_scaled, y_train))\n",
        "    print('Test accuracy:', model.score(X_test_scaled, y_test))\n",
        "    print('')"
      ],
      "metadata": {
        "id": "Oip_jrk0zZlK",
        "outputId": "4e84e525-28d7-4ca5-b21f-5f4ad0c99112",
        "colab": {
          "base_uri": "https://localhost:8080/"
        }
      },
      "execution_count": 18,
      "outputs": [
        {
          "output_type": "stream",
          "name": "stdout",
          "text": [
            "C: 10\n",
            "Coefficients: [[  0.91056559   0.           0.           0.           0.\n",
            "    4.00122478  -3.53366706  -3.00019864   1.1575741    0.50545489\n",
            "   -1.53282808   0.30486854   0.         -11.84572147  -0.44354238\n",
            "    0.07614578   1.11298227  -3.51186453   0.87358581   5.60571959\n",
            "    0.          -2.79868846  -5.13218227   0.          -1.64586167\n",
            "    0.49214215  -0.63208731   0.          -2.29182686  -5.06986355]]\n",
            "Training accuracy: 0.9934065934065934\n",
            "Test accuracy: 0.9649122807017544\n",
            "\n",
            "C: 1\n",
            "Coefficients: [[ 0.         -0.07841804  0.          0.          0.          0.\n",
            "  -0.62112671 -0.82269472  0.          0.23331244 -2.45071429  0.\n",
            "   0.         -0.29608706 -0.25709274  0.83643764  0.          0.\n",
            "   0.          0.21728553  0.         -1.39038148 -1.03878698 -2.82948818\n",
            "  -0.66694019  0.         -0.48224247 -1.51638898 -0.61065915  0.        ]]\n",
            "Training accuracy: 0.9912087912087912\n",
            "Test accuracy: 0.9649122807017544\n",
            "\n",
            "C: 0.1\n",
            "Coefficients: [[ 0.          0.          0.          0.          0.          0.\n",
            "   0.         -0.62536413  0.          0.         -0.60353032  0.\n",
            "   0.          0.          0.          0.          0.          0.\n",
            "   0.          0.         -1.25207756 -0.63874306 -0.31483381 -0.2428989\n",
            "  -0.24416887  0.          0.         -0.85398719 -0.13235279  0.        ]]\n",
            "Training accuracy: 0.978021978021978\n",
            "Test accuracy: 0.9649122807017544\n",
            "\n",
            "C: 0.001\n",
            "Coefficients: [[0. 0. 0. 0. 0. 0. 0. 0. 0. 0. 0. 0. 0. 0. 0. 0. 0. 0. 0. 0. 0. 0. 0. 0.\n",
            "  0. 0. 0. 0. 0. 0.]]\n",
            "Training accuracy: 0.35824175824175825\n",
            "Test accuracy: 0.4298245614035088\n",
            "\n"
          ]
        }
      ]
    },
    {
      "cell_type": "markdown",
      "source": [
        "Here as C is decreasing, the Training accuracy is decreasing, so as the testing accuracy. It is because the model coefficients will be tending towards the zero as the C is decreasing\n",
        "\n"
      ],
      "metadata": {
        "id": "5rSNBPRBzpQF"
      }
    },
    {
      "cell_type": "markdown",
      "source": [
        "**Problem 2**"
      ],
      "metadata": {
        "id": "2dHlqor84xGn"
      }
    },
    {
      "cell_type": "code",
      "source": [
        "from sklearn.naive_bayes import GaussianNB\n"
      ],
      "metadata": {
        "id": "7h5CgO1nzobD"
      },
      "execution_count": 19,
      "outputs": []
    },
    {
      "cell_type": "code",
      "source": [
        "model_nb = GaussianNB()\n",
        "model_nb.fit(X_train_scaled, y_train)\n",
        "model_nb.score(X_train_scaled, y_train)"
      ],
      "metadata": {
        "id": "tJtVMfHMzwFW",
        "outputId": "4ca7f5ec-f805-4ab2-b652-480461d6ca49",
        "colab": {
          "base_uri": "https://localhost:8080/"
        }
      },
      "execution_count": 20,
      "outputs": [
        {
          "output_type": "execute_result",
          "data": {
            "text/plain": [
              "0.9362637362637363"
            ]
          },
          "metadata": {},
          "execution_count": 20
        }
      ]
    },
    {
      "cell_type": "code",
      "source": [
        "y_pred = model_nb.predict(X_test_scaled)\n",
        "print(\"Accuracy Score: \", accuracy_score(y_test, y_pred),\n",
        "      \"\\nPrecision Score: \", precision_score(y_test, y_pred),\n",
        "      \"\\nRecall Score: \", recall_score(y_test, y_pred),\n",
        "      \"\\nF1 Score: \", f1_score(y_test, y_pred))"
      ],
      "metadata": {
        "id": "mIOPx1uAzzUR",
        "outputId": "32b9c5da-282c-44be-81bc-dc3e72686afd",
        "colab": {
          "base_uri": "https://localhost:8080/"
        }
      },
      "execution_count": 21,
      "outputs": [
        {
          "output_type": "stream",
          "name": "stdout",
          "text": [
            "Accuracy Score:  0.9385964912280702 \n",
            "Precision Score:  0.9264705882352942 \n",
            "Recall Score:  0.9692307692307692 \n",
            "F1 Score:  0.9473684210526316\n"
          ]
        }
      ]
    },
    {
      "cell_type": "code",
      "source": [
        "cnf_matrix = confusion_matrix(y_test, y_pred)\n",
        "disp = ConfusionMatrixDisplay(confusion_matrix = cnf_matrix,\n",
        "                             display_labels = ['B', 'M'])\n",
        "disp.plot()"
      ],
      "metadata": {
        "id": "WbXkvN6ez6sY",
        "outputId": "cf9f3113-163f-4513-df6c-3b9007acc462",
        "colab": {
          "base_uri": "https://localhost:8080/",
          "height": 467
        }
      },
      "execution_count": 22,
      "outputs": [
        {
          "output_type": "execute_result",
          "data": {
            "text/plain": [
              "<sklearn.metrics._plot.confusion_matrix.ConfusionMatrixDisplay at 0x7d300f30f0a0>"
            ]
          },
          "metadata": {},
          "execution_count": 22
        },
        {
          "output_type": "display_data",
          "data": {
            "text/plain": [
              "<Figure size 640x480 with 2 Axes>"
            ],
            "image/png": "[encoded data removed]"
          },
          "metadata": {}
        }
      ]
    },
    {
      "cell_type": "code",
      "source": [
        "\n",
        "y_pred_prob = model_nb.predict_proba(X_test)\n",
        "log_loss(y_test, y_pred_prob)"
      ],
      "metadata": {
        "id": "lofEEwI0z_Sz",
        "outputId": "d8ab2697-f9c8-4483-e35d-496392050cff",
        "colab": {
          "base_uri": "https://localhost:8080/"
        }
      },
      "execution_count": 23,
      "outputs": [
        {
          "output_type": "execute_result",
          "data": {
            "text/plain": [
              "20.551205879759774"
            ]
          },
          "metadata": {},
          "execution_count": 23
        }
      ]
    },
    {
      "cell_type": "markdown",
      "source": [
        "**Problem 3**"
      ],
      "metadata": {
        "id": "Ylwv-QO20Enu"
      }
    },
    {
      "cell_type": "code",
      "source": [
        "from sklearn.decomposition import PCA\n"
      ],
      "metadata": {
        "id": "ReAKf7zl0GiH"
      },
      "execution_count": 24,
      "outputs": []
    },
    {
      "cell_type": "code",
      "source": [
        "scaler = StandardScaler()\n",
        "X_scaled = scaler.fit_transform(X)"
      ],
      "metadata": {
        "id": "xj02-qfQ0JE9"
      },
      "execution_count": 25,
      "outputs": []
    },
    {
      "cell_type": "code",
      "source": [
        "\n",
        "def pca_components(percentage):\n",
        "    pca=PCA(percentage)\n",
        "    xpca=pca.fit_transform(X_scaled)\n",
        "    return pca.n_components_"
      ],
      "metadata": {
        "id": "WnaVFXhX0Lwx"
      },
      "execution_count": 26,
      "outputs": []
    },
    {
      "cell_type": "code",
      "source": [
        "for i in range(80,100,1):\n",
        "    components=pca_components(i/100)\n",
        "    print('for the explained variance ratio {},{} these are the number of components that hold the information'.format(i,components))\n"
      ],
      "metadata": {
        "id": "2Ai4AKNa0N_5",
        "outputId": "a560d0bb-e6a3-444f-b8c5-f608d6ff4dbe",
        "colab": {
          "base_uri": "https://localhost:8080/"
        }
      },
      "execution_count": 27,
      "outputs": [
        {
          "output_type": "stream",
          "name": "stdout",
          "text": [
            "for the explained variance ratio 80,5 these are the number of components that hold the information\n",
            "for the explained variance ratio 81,5 these are the number of components that hold the information\n",
            "for the explained variance ratio 82,5 these are the number of components that hold the information\n",
            "for the explained variance ratio 83,5 these are the number of components that hold the information\n",
            "for the explained variance ratio 84,5 these are the number of components that hold the information\n",
            "for the explained variance ratio 85,6 these are the number of components that hold the information\n",
            "for the explained variance ratio 86,6 these are the number of components that hold the information\n",
            "for the explained variance ratio 87,6 these are the number of components that hold the information\n",
            "for the explained variance ratio 88,6 these are the number of components that hold the information\n",
            "for the explained variance ratio 89,7 these are the number of components that hold the information\n",
            "for the explained variance ratio 90,7 these are the number of components that hold the information\n",
            "for the explained variance ratio 91,7 these are the number of components that hold the information\n",
            "for the explained variance ratio 92,8 these are the number of components that hold the information\n",
            "for the explained variance ratio 93,9 these are the number of components that hold the information\n",
            "for the explained variance ratio 94,10 these are the number of components that hold the information\n",
            "for the explained variance ratio 95,10 these are the number of components that hold the information\n",
            "for the explained variance ratio 96,11 these are the number of components that hold the information\n",
            "for the explained variance ratio 97,12 these are the number of components that hold the information\n",
            "for the explained variance ratio 98,14 these are the number of components that hold the information\n",
            "for the explained variance ratio 99,17 these are the number of components that hold the information\n"
          ]
        }
      ]
    },
    {
      "cell_type": "code",
      "source": [
        "pca = PCA()\n",
        "mxpca=pca.fit_transform(X_scaled)"
      ],
      "metadata": {
        "id": "tEAOAYsm0jep"
      },
      "execution_count": 28,
      "outputs": []
    },
    {
      "cell_type": "code",
      "source": [
        "evr=pca.explained_variance_ratio_\n",
        "plt.figure(figsize=(10,5))\n",
        "\n",
        "plt.subplot(1,2,1)\n",
        "plt.plot(evr,'s--')\n",
        "plt.xlabel('components')\n",
        "plt.ylabel('Explained variance ratio')\n",
        "plt.title('elbow method to identify the number of components')\n",
        "\n",
        "cuv=np.cumsum(evr)\n",
        "plt.subplot(1,2,2)\n",
        "plt.plot(cuv,'s--')\n",
        "plt.xlabel('components')\n",
        "plt.ylabel\n"
      ],
      "metadata": {
        "id": "og6G3Coe0l4k",
        "outputId": "04f89681-f566-437f-935d-dcc494100e16",
        "colab": {
          "base_uri": "https://localhost:8080/",
          "height": 657
        }
      },
      "execution_count": 29,
      "outputs": [
        {
          "output_type": "execute_result",
          "data": {
            "text/plain": [
              "<function matplotlib.pyplot.ylabel(ylabel, fontdict=None, labelpad=None, *, loc=None, **kwargs)>"
            ],
            "text/html": [
              "<div style=\"max-width:800px; border: 1px solid var(--colab-border-color);\"><style>\n",
              "      pre.function-repr-contents {\n",
              "        overflow-x: auto;\n",
              "        padding: 8px 12px;\n",
              "        max-height: 500px;\n",
              "      }\n",
              "\n",
              "      pre.function-repr-contents.function-repr-contents-collapsed {\n",
              "        cursor: pointer;\n",
              "        max-height: 100px;\n",
              "      }\n",
              "    </style>\n",
              "    <pre style=\"white-space: initial; background:\n",
              "         var(--colab-secondary-surface-color); padding: 8px 12px;\n",
              "         border-bottom: 1px solid var(--colab-border-color);\"><b>matplotlib.pyplot.ylabel</b><br/>def ylabel(ylabel, fontdict=None, labelpad=None, *, loc=None, **kwargs)</pre><pre class=\"function-repr-contents function-repr-contents-collapsed\" style=\"\"><a class=\"filepath\" style=\"display:none\" href=\"#\">/usr/local/lib/python3.10/dist-packages/matplotlib/pyplot.py</a>Set the label for the y-axis.\n",
              "\n",
              "Parameters\n",
              "----------\n",
              "ylabel : str\n",
              "    The label text.\n",
              "\n",
              "labelpad : float, default: :rc:`axes.labelpad`\n",
              "    Spacing in points from the Axes bounding box including ticks\n",
              "    and tick labels.  If None, the previous value is left as is.\n",
              "\n",
              "loc : {&#x27;bottom&#x27;, &#x27;center&#x27;, &#x27;top&#x27;}, default: :rc:`yaxis.labellocation`\n",
              "    The label position. This is a high-level alternative for passing\n",
              "    parameters *y* and *horizontalalignment*.\n",
              "\n",
              "Other Parameters\n",
              "----------------\n",
              "**kwargs : `.Text` properties\n",
              "    `.Text` properties control the appearance of the label.\n",
              "\n",
              "See Also\n",
              "--------\n",
              "text : Documents the properties supported by `.Text`.</pre>\n",
              "      <script>\n",
              "      if (google.colab.kernel.accessAllowed && google.colab.files && google.colab.files.view) {\n",
              "        for (const element of document.querySelectorAll('.filepath')) {\n",
              "          element.style.display = 'block'\n",
              "          element.onclick = (event) => {\n",
              "            event.preventDefault();\n",
              "            event.stopPropagation();\n",
              "            google.colab.files.view(element.textContent, 3097);\n",
              "          };\n",
              "        }\n",
              "      }\n",
              "      for (const element of document.querySelectorAll('.function-repr-contents')) {\n",
              "        element.onclick = (event) => {\n",
              "          event.preventDefault();\n",
              "          event.stopPropagation();\n",
              "          element.classList.toggle('function-repr-contents-collapsed');\n",
              "        };\n",
              "      }\n",
              "      </script>\n",
              "      </div>"
            ]
          },
          "metadata": {},
          "execution_count": 29
        },
        {
          "output_type": "display_data",
          "data": {
            "text/plain": [
              "<Figure size 1000x500 with 2 Axes>"
            ],
            "image/png": "[encoded data removed]"
          },
          "metadata": {}
        }
      ]
    },
    {
      "cell_type": "markdown",
      "source": [
        "From the above elbow method, Optimal number for k is 6.\n",
        "\n"
      ],
      "metadata": {
        "id": "jG47pxdS0sg1"
      }
    },
    {
      "cell_type": "code",
      "source": [
        "pca_opt = PCA(n_components=6)"
      ],
      "metadata": {
        "id": "JETRHnRO0p_A"
      },
      "execution_count": 30,
      "outputs": []
    },
    {
      "cell_type": "code",
      "source": [
        "principalComponents = pca_opt.fit_transform(X_scaled)\n",
        "principalDf = pd.DataFrame(data = principalComponents,columns = ['pc{}'.format(i) for i in range(1,7)])\n",
        "principalDf.head()"
      ],
      "metadata": {
        "id": "P1fJSzsM0vN8",
        "outputId": "dd717c22-c933-421c-e066-1fc97ad8646e",
        "colab": {
          "base_uri": "https://localhost:8080/",
          "height": 206
        }
      },
      "execution_count": 31,
      "outputs": [
        {
          "output_type": "execute_result",
          "data": {
            "text/plain": [
              "        pc1        pc2       pc3       pc4       pc5       pc6\n",
              "0  9.192837   1.948583 -1.123167  3.633732 -1.195106  1.411436\n",
              "1  2.387802  -3.768172 -0.529292  1.118262  0.621771  0.028646\n",
              "2  5.733896  -1.075174 -0.551748  0.912083 -0.177085  0.541456\n",
              "3  7.122953  10.275589 -3.232790  0.152547 -2.960879  3.053421\n",
              "4  3.935302  -1.948072  1.389767  2.940639  0.546747 -1.226496"
            ],
            "text/html": [
              "\n",
              "  <div id=\"df-975e3f71-cb12-4f48-adc5-7ae0a0d7f7b8\" class=\"colab-df-container\">\n",
              "    <div>\n",
              "<style scoped>\n",
              "    .dataframe tbody tr th:only-of-type {\n",
              "        vertical-align: middle;\n",
              "    }\n",
              "\n",
              "    .dataframe tbody tr th {\n",
              "        vertical-align: top;\n",
              "    }\n",
              "\n",
              "    .dataframe thead th {\n",
              "        text-align: right;\n",
              "    }\n",
              "</style>\n",
              "<table border=\"1\" class=\"dataframe\">\n",
              "  <thead>\n",
              "    <tr style=\"text-align: right;\">\n",
              "      <th></th>\n",
              "      <th>pc1</th>\n",
              "      <th>pc2</th>\n",
              "      <th>pc3</th>\n",
              "      <th>pc4</th>\n",
              "      <th>pc5</th>\n",
              "      <th>pc6</th>\n",
              "    </tr>\n",
              "  </thead>\n",
              "  <tbody>\n",
              "    <tr>\n",
              "      <th>0</th>\n",
              "      <td>9.192837</td>\n",
              "      <td>1.948583</td>\n",
              "      <td>-1.123167</td>\n",
              "      <td>3.633732</td>\n",
              "      <td>-1.195106</td>\n",
              "      <td>1.411436</td>\n",
              "    </tr>\n",
              "    <tr>\n",
              "      <th>1</th>\n",
              "      <td>2.387802</td>\n",
              "      <td>-3.768172</td>\n",
              "      <td>-0.529292</td>\n",
              "      <td>1.118262</td>\n",
              "      <td>0.621771</td>\n",
              "      <td>0.028646</td>\n",
              "    </tr>\n",
              "    <tr>\n",
              "      <th>2</th>\n",
              "      <td>5.733896</td>\n",
              "      <td>-1.075174</td>\n",
              "      <td>-0.551748</td>\n",
              "      <td>0.912083</td>\n",
              "      <td>-0.177085</td>\n",
              "      <td>0.541456</td>\n",
              "    </tr>\n",
              "    <tr>\n",
              "      <th>3</th>\n",
              "      <td>7.122953</td>\n",
              "      <td>10.275589</td>\n",
              "      <td>-3.232790</td>\n",
              "      <td>0.152547</td>\n",
              "      <td>-2.960879</td>\n",
              "      <td>3.053421</td>\n",
              "    </tr>\n",
              "    <tr>\n",
              "      <th>4</th>\n",
              "      <td>3.935302</td>\n",
              "      <td>-1.948072</td>\n",
              "      <td>1.389767</td>\n",
              "      <td>2.940639</td>\n",
              "      <td>0.546747</td>\n",
              "      <td>-1.226496</td>\n",
              "    </tr>\n",
              "  </tbody>\n",
              "</table>\n",
              "</div>\n",
              "    <div class=\"colab-df-buttons\">\n",
              "\n",
              "  <div class=\"colab-df-container\">\n",
              "    <button class=\"colab-df-convert\" onclick=\"convertToInteractive('df-975e3f71-cb12-4f48-adc5-7ae0a0d7f7b8')\"\n",
              "            title=\"Convert this dataframe to an interactive table.\"\n",
              "            style=\"display:none;\">\n",
              "\n",
              "  <svg xmlns=\"http://www.w3.org/2000/svg\" height=\"24px\" viewBox=\"0 -960 960 960\">\n",
              "    <path d=\"M120-120v-720h720v720H120Zm60-500h600v-160H180v160Zm220 220h160v-160H400v160Zm0 220h160v-160H400v160ZM180-400h160v-160H180v160Zm440 0h160v-160H620v160ZM180-180h160v-160H180v160Zm440 0h160v-160H620v160Z\"/>\n",
              "  </svg>\n",
              "    </button>\n",
              "\n",
              "  <style>\n",
              "    .colab-df-container {\n",
              "      display:flex;\n",
              "      gap: 12px;\n",
              "    }\n",
              "\n",
              "    .colab-df-convert {\n",
              "      background-color: #E8F0FE;\n",
              "      border: none;\n",
              "      border-radius: 50%;\n",
              "      cursor: pointer;\n",
              "      display: none;\n",
              "      fill: #1967D2;\n",
              "      height: 32px;\n",
              "      padding: 0 0 0 0;\n",
              "      width: 32px;\n",
              "    }\n",
              "\n",
              "    .colab-df-convert:hover {\n",
              "      background-color: #E2EBFA;\n",
              "      box-shadow: 0px 1px 2px rgba(60, 64, 67, 0.3), 0px 1px 3px 1px rgba(60, 64, 67, 0.15);\n",
              "      fill: #174EA6;\n",
              "    }\n",
              "\n",
              "    .colab-df-buttons div {\n",
              "      margin-bottom: 4px;\n",
              "    }\n",
              "\n",
              "    [theme=dark] .colab-df-convert {\n",
              "      background-color: #3B4455;\n",
              "      fill: #D2E3FC;\n",
              "    }\n",
              "\n",
              "    [theme=dark] .colab-df-convert:hover {\n",
              "      background-color: #434B5C;\n",
              "      box-shadow: 0px 1px 3px 1px rgba(0, 0, 0, 0.15);\n",
              "      filter: drop-shadow(0px 1px 2px rgba(0, 0, 0, 0.3));\n",
              "      fill: #FFFFFF;\n",
              "    }\n",
              "  </style>\n",
              "\n",
              "    <script>\n",
              "      const buttonEl =\n",
              "        document.querySelector('#df-975e3f71-cb12-4f48-adc5-7ae0a0d7f7b8 button.colab-df-convert');\n",
              "      buttonEl.style.display =\n",
              "        google.colab.kernel.accessAllowed ? 'block' : 'none';\n",
              "\n",
              "      async function convertToInteractive(key) {\n",
              "        const element = document.querySelector('#df-975e3f71-cb12-4f48-adc5-7ae0a0d7f7b8');\n",
              "        const dataTable =\n",
              "          await google.colab.kernel.invokeFunction('convertToInteractive',\n",
              "                                                    [key], {});\n",
              "        if (!dataTable) return;\n",
              "\n",
              "        const docLinkHtml = 'Like what you see? Visit the ' +\n",
              "          '<a target=\"_blank\" href=https://colab.research.google.com/notebooks/data_table.ipynb>data table notebook</a>'\n",
              "          + ' to learn more about interactive tables.';\n",
              "        element.innerHTML = '';\n",
              "        dataTable['output_type'] = 'display_data';\n",
              "        await google.colab.output.renderOutput(dataTable, element);\n",
              "        const docLink = document.createElement('div');\n",
              "        docLink.innerHTML = docLinkHtml;\n",
              "        element.appendChild(docLink);\n",
              "      }\n",
              "    </script>\n",
              "  </div>\n",
              "\n",
              "\n",
              "<div id=\"df-75dae668-d70f-436c-af69-6be4344f088b\">\n",
              "  <button class=\"colab-df-quickchart\" onclick=\"quickchart('df-75dae668-d70f-436c-af69-6be4344f088b')\"\n",
              "            title=\"Suggest charts\"\n",
              "            style=\"display:none;\">\n",
              "\n",
              "<svg xmlns=\"http://www.w3.org/2000/svg\" height=\"24px\"viewBox=\"0 0 24 24\"\n",
              "     width=\"24px\">\n",
              "    <g>\n",
              "        <path d=\"M19 3H5c-1.1 0-2 .9-2 2v14c0 1.1.9 2 2 2h14c1.1 0 2-.9 2-2V5c0-1.1-.9-2-2-2zM9 17H7v-7h2v7zm4 0h-2V7h2v10zm4 0h-2v-4h2v4z\"/>\n",
              "    </g>\n",
              "</svg>\n",
              "  </button>\n",
              "\n",
              "<style>\n",
              "  .colab-df-quickchart {\n",
              "      --bg-color: #E8F0FE;\n",
              "      --fill-color: #1967D2;\n",
              "      --hover-bg-color: #E2EBFA;\n",
              "      --hover-fill-color: #174EA6;\n",
              "      --disabled-fill-color: #AAA;\n",
              "      --disabled-bg-color: #DDD;\n",
              "  }\n",
              "\n",
              "  [theme=dark] .colab-df-quickchart {\n",
              "      --bg-color: #3B4455;\n",
              "      --fill-color: #D2E3FC;\n",
              "      --hover-bg-color: #434B5C;\n",
              "      --hover-fill-color: #FFFFFF;\n",
              "      --disabled-bg-color: #3B4455;\n",
              "      --disabled-fill-color: #666;\n",
              "  }\n",
              "\n",
              "  .colab-df-quickchart {\n",
              "    background-color: var(--bg-color);\n",
              "    border: none;\n",
              "    border-radius: 50%;\n",
              "    cursor: pointer;\n",
              "    display: none;\n",
              "    fill: var(--fill-color);\n",
              "    height: 32px;\n",
              "    padding: 0;\n",
              "    width: 32px;\n",
              "  }\n",
              "\n",
              "  .colab-df-quickchart:hover {\n",
              "    background-color: var(--hover-bg-color);\n",
              "    box-shadow: 0 1px 2px rgba(60, 64, 67, 0.3), 0 1px 3px 1px rgba(60, 64, 67, 0.15);\n",
              "    fill: var(--button-hover-fill-color);\n",
              "  }\n",
              "\n",
              "  .colab-df-quickchart-complete:disabled,\n",
              "  .colab-df-quickchart-complete:disabled:hover {\n",
              "    background-color: var(--disabled-bg-color);\n",
              "    fill: var(--disabled-fill-color);\n",
              "    box-shadow: none;\n",
              "  }\n",
              "\n",
              "  .colab-df-spinner {\n",
              "    border: 2px solid var(--fill-color);\n",
              "    border-color: transparent;\n",
              "    border-bottom-color: var(--fill-color);\n",
              "    animation:\n",
              "      spin 1s steps(1) infinite;\n",
              "  }\n",
              "\n",
              "  @keyframes spin {\n",
              "    0% {\n",
              "      border-color: transparent;\n",
              "      border-bottom-color: var(--fill-color);\n",
              "      border-left-color: var(--fill-color);\n",
              "    }\n",
              "    20% {\n",
              "      border-color: transparent;\n",
              "      border-left-color: var(--fill-color);\n",
              "      border-top-color: var(--fill-color);\n",
              "    }\n",
              "    30% {\n",
              "      border-color: transparent;\n",
              "      border-left-color: var(--fill-color);\n",
              "      border-top-color: var(--fill-color);\n",
              "      border-right-color: var(--fill-color);\n",
              "    }\n",
              "    40% {\n",
              "      border-color: transparent;\n",
              "      border-right-color: var(--fill-color);\n",
              "      border-top-color: var(--fill-color);\n",
              "    }\n",
              "    60% {\n",
              "      border-color: transparent;\n",
              "      border-right-color: var(--fill-color);\n",
              "    }\n",
              "    80% {\n",
              "      border-color: transparent;\n",
              "      border-right-color: var(--fill-color);\n",
              "      border-bottom-color: var(--fill-color);\n",
              "    }\n",
              "    90% {\n",
              "      border-color: transparent;\n",
              "      border-bottom-color: var(--fill-color);\n",
              "    }\n",
              "  }\n",
              "</style>\n",
              "\n",
              "  <script>\n",
              "    async function quickchart(key) {\n",
              "      const quickchartButtonEl =\n",
              "        document.querySelector('#' + key + ' button');\n",
              "      quickchartButtonEl.disabled = true;  // To prevent multiple clicks.\n",
              "      quickchartButtonEl.classList.add('colab-df-spinner');\n",
              "      try {\n",
              "        const charts = await google.colab.kernel.invokeFunction(\n",
              "            'suggestCharts', [key], {});\n",
              "      } catch (error) {\n",
              "        console.error('Error during call to suggestCharts:', error);\n",
              "      }\n",
              "      quickchartButtonEl.classList.remove('colab-df-spinner');\n",
              "      quickchartButtonEl.classList.add('colab-df-quickchart-complete');\n",
              "    }\n",
              "    (() => {\n",
              "      let quickchartButtonEl =\n",
              "        document.querySelector('#df-75dae668-d70f-436c-af69-6be4344f088b button');\n",
              "      quickchartButtonEl.style.display =\n",
              "        google.colab.kernel.accessAllowed ? 'block' : 'none';\n",
              "    })();\n",
              "  </script>\n",
              "</div>\n",
              "    </div>\n",
              "  </div>\n"
            ],
            "application/vnd.google.colaboratory.intrinsic+json": {
              "type": "dataframe",
              "variable_name": "principalDf",
              "summary": "{\n  \"name\": \"principalDf\",\n  \"rows\": 569,\n  \"fields\": [\n    {\n      \"column\": \"pc1\",\n      \"properties\": {\n        \"dtype\": \"number\",\n        \"std\": 3.647600690094047,\n        \"min\": -5.565735898128946,\n        \"max\": 16.319233232191202,\n        \"num_unique_values\": 569,\n        \"samples\": [\n          -0.7811899670798644,\n          2.7045961723908087,\n          1.4320694262884117\n        ],\n        \"semantic_type\": \"\",\n        \"description\": \"\"\n      }\n    },\n    {\n      \"column\": \"pc2\",\n      \"properties\": {\n        \"dtype\": \"number\",\n        \"std\": 2.387755138980155,\n        \"min\": -7.775852787532032,\n        \"max\": 12.57319421851688,\n        \"num_unique_values\": 569,\n        \"samples\": [\n          0.6528492561722455,\n          -4.4371417740338845,\n          -1.0496039577765777\n        ],\n        \"semantic_type\": \"\",\n        \"description\": \"\"\n      }\n    },\n    {\n      \"column\": \"pc3\",\n      \"properties\": {\n        \"dtype\": \"number\",\n        \"std\": 1.680151824986707,\n        \"min\": -4.880360768962507,\n        \"max\": 10.112423944396593,\n        \"num_unique_values\": 569,\n        \"samples\": [\n          -0.6436571287818292,\n          0.3073452380741609,\n          -1.2620116180583245\n        ],\n        \"semantic_type\": \"\",\n        \"description\": \"\"\n      }\n    },\n    {\n      \"column\": \"pc4\",\n      \"properties\": {\n        \"dtype\": \"number\",\n        \"std\": 1.4085906139577762,\n        \"min\": -5.133987740963034,\n        \"max\": 5.194269183313267,\n        \"num_unique_values\": 569,\n        \"samples\": [\n          0.21446850562161238,\n          0.4886931841516597,\n          0.5331897828426396\n        ],\n        \"semantic_type\": \"\",\n        \"description\": \"\"\n      }\n    },\n    {\n      \"column\": \"pc5\",\n      \"properties\": {\n        \"dtype\": \"number\",\n        \"std\": 1.28515883933798,\n        \"min\": -4.7896584361069205,\n        \"max\": 7.490436388410106,\n        \"num_unique_values\": 569,\n        \"samples\": [\n          -0.4376793112513044,\n          0.37249603360664074,\n          -0.6266947295577018\n        ],\n        \"semantic_type\": \"\",\n        \"description\": \"\"\n      }\n    },\n    {\n      \"column\": \"pc6\",\n      \"properties\": {\n        \"dtype\": \"number\",\n        \"std\": 1.0997646292688787,\n        \"min\": -4.217767012758259,\n        \"max\": 5.134229126254063,\n        \"num_unique_values\": 569,\n        \"samples\": [\n          -0.16048792238418202,\n          -0.29179766182005756,\n          -0.785910818349707\n        ],\n        \"semantic_type\": \"\",\n        \"description\": \"\"\n      }\n    }\n  ]\n}"
            }
          },
          "metadata": {},
          "execution_count": 31
        }
      ]
    },
    {
      "cell_type": "code",
      "source": [
        "principalDf['target'] = y\n"
      ],
      "metadata": {
        "id": "TkYvquN10zot"
      },
      "execution_count": 32,
      "outputs": []
    },
    {
      "cell_type": "code",
      "source": [
        "principalDf.shape"
      ],
      "metadata": {
        "id": "OPt8Bm7n011a",
        "outputId": "86b64077-ac8d-4dfe-f28c-cd8664a81d10",
        "colab": {
          "base_uri": "https://localhost:8080/"
        }
      },
      "execution_count": 33,
      "outputs": [
        {
          "output_type": "execute_result",
          "data": {
            "text/plain": [
              "(569, 7)"
            ]
          },
          "metadata": {},
          "execution_count": 33
        }
      ]
    },
    {
      "cell_type": "code",
      "source": [
        "principalDf.head()"
      ],
      "metadata": {
        "id": "ER29X7St04EE",
        "outputId": "1b37d22f-67d2-4375-b331-44768bdc60ec",
        "colab": {
          "base_uri": "https://localhost:8080/",
          "height": 206
        }
      },
      "execution_count": 34,
      "outputs": [
        {
          "output_type": "execute_result",
          "data": {
            "text/plain": [
              "        pc1        pc2       pc3       pc4       pc5       pc6  target\n",
              "0  9.192837   1.948583 -1.123167  3.633732 -1.195106  1.411436       0\n",
              "1  2.387802  -3.768172 -0.529292  1.118262  0.621771  0.028646       0\n",
              "2  5.733896  -1.075174 -0.551748  0.912083 -0.177085  0.541456       0\n",
              "3  7.122953  10.275589 -3.232790  0.152547 -2.960879  3.053421       0\n",
              "4  3.935302  -1.948072  1.389767  2.940639  0.546747 -1.226496       0"
            ],
            "text/html": [
              "\n",
              "  <div id=\"df-ccd608ca-9438-44c7-b3ac-cef05a7ab902\" class=\"colab-df-container\">\n",
              "    <div>\n",
              "<style scoped>\n",
              "    .dataframe tbody tr th:only-of-type {\n",
              "        vertical-align: middle;\n",
              "    }\n",
              "\n",
              "    .dataframe tbody tr th {\n",
              "        vertical-align: top;\n",
              "    }\n",
              "\n",
              "    .dataframe thead th {\n",
              "        text-align: right;\n",
              "    }\n",
              "</style>\n",
              "<table border=\"1\" class=\"dataframe\">\n",
              "  <thead>\n",
              "    <tr style=\"text-align: right;\">\n",
              "      <th></th>\n",
              "      <th>pc1</th>\n",
              "      <th>pc2</th>\n",
              "      <th>pc3</th>\n",
              "      <th>pc4</th>\n",
              "      <th>pc5</th>\n",
              "      <th>pc6</th>\n",
              "      <th>target</th>\n",
              "    </tr>\n",
              "  </thead>\n",
              "  <tbody>\n",
              "    <tr>\n",
              "      <th>0</th>\n",
              "      <td>9.192837</td>\n",
              "      <td>1.948583</td>\n",
              "      <td>-1.123167</td>\n",
              "      <td>3.633732</td>\n",
              "      <td>-1.195106</td>\n",
              "      <td>1.411436</td>\n",
              "      <td>0</td>\n",
              "    </tr>\n",
              "    <tr>\n",
              "      <th>1</th>\n",
              "      <td>2.387802</td>\n",
              "      <td>-3.768172</td>\n",
              "      <td>-0.529292</td>\n",
              "      <td>1.118262</td>\n",
              "      <td>0.621771</td>\n",
              "      <td>0.028646</td>\n",
              "      <td>0</td>\n",
              "    </tr>\n",
              "    <tr>\n",
              "      <th>2</th>\n",
              "      <td>5.733896</td>\n",
              "      <td>-1.075174</td>\n",
              "      <td>-0.551748</td>\n",
              "      <td>0.912083</td>\n",
              "      <td>-0.177085</td>\n",
              "      <td>0.541456</td>\n",
              "      <td>0</td>\n",
              "    </tr>\n",
              "    <tr>\n",
              "      <th>3</th>\n",
              "      <td>7.122953</td>\n",
              "      <td>10.275589</td>\n",
              "      <td>-3.232790</td>\n",
              "      <td>0.152547</td>\n",
              "      <td>-2.960879</td>\n",
              "      <td>3.053421</td>\n",
              "      <td>0</td>\n",
              "    </tr>\n",
              "    <tr>\n",
              "      <th>4</th>\n",
              "      <td>3.935302</td>\n",
              "      <td>-1.948072</td>\n",
              "      <td>1.389767</td>\n",
              "      <td>2.940639</td>\n",
              "      <td>0.546747</td>\n",
              "      <td>-1.226496</td>\n",
              "      <td>0</td>\n",
              "    </tr>\n",
              "  </tbody>\n",
              "</table>\n",
              "</div>\n",
              "    <div class=\"colab-df-buttons\">\n",
              "\n",
              "  <div class=\"colab-df-container\">\n",
              "    <button class=\"colab-df-convert\" onclick=\"convertToInteractive('df-ccd608ca-9438-44c7-b3ac-cef05a7ab902')\"\n",
              "            title=\"Convert this dataframe to an interactive table.\"\n",
              "            style=\"display:none;\">\n",
              "\n",
              "  <svg xmlns=\"http://www.w3.org/2000/svg\" height=\"24px\" viewBox=\"0 -960 960 960\">\n",
              "    <path d=\"M120-120v-720h720v720H120Zm60-500h600v-160H180v160Zm220 220h160v-160H400v160Zm0 220h160v-160H400v160ZM180-400h160v-160H180v160Zm440 0h160v-160H620v160ZM180-180h160v-160H180v160Zm440 0h160v-160H620v160Z\"/>\n",
              "  </svg>\n",
              "    </button>\n",
              "\n",
              "  <style>\n",
              "    .colab-df-container {\n",
              "      display:flex;\n",
              "      gap: 12px;\n",
              "    }\n",
              "\n",
              "    .colab-df-convert {\n",
              "      background-color: #E8F0FE;\n",
              "      border: none;\n",
              "      border-radius: 50%;\n",
              "      cursor: pointer;\n",
              "      display: none;\n",
              "      fill: #1967D2;\n",
              "      height: 32px;\n",
              "      padding: 0 0 0 0;\n",
              "      width: 32px;\n",
              "    }\n",
              "\n",
              "    .colab-df-convert:hover {\n",
              "      background-color: #E2EBFA;\n",
              "      box-shadow: 0px 1px 2px rgba(60, 64, 67, 0.3), 0px 1px 3px 1px rgba(60, 64, 67, 0.15);\n",
              "      fill: #174EA6;\n",
              "    }\n",
              "\n",
              "    .colab-df-buttons div {\n",
              "      margin-bottom: 4px;\n",
              "    }\n",
              "\n",
              "    [theme=dark] .colab-df-convert {\n",
              "      background-color: #3B4455;\n",
              "      fill: #D2E3FC;\n",
              "    }\n",
              "\n",
              "    [theme=dark] .colab-df-convert:hover {\n",
              "      background-color: #434B5C;\n",
              "      box-shadow: 0px 1px 3px 1px rgba(0, 0, 0, 0.15);\n",
              "      filter: drop-shadow(0px 1px 2px rgba(0, 0, 0, 0.3));\n",
              "      fill: #FFFFFF;\n",
              "    }\n",
              "  </style>\n",
              "\n",
              "    <script>\n",
              "      const buttonEl =\n",
              "        document.querySelector('#df-ccd608ca-9438-44c7-b3ac-cef05a7ab902 button.colab-df-convert');\n",
              "      buttonEl.style.display =\n",
              "        google.colab.kernel.accessAllowed ? 'block' : 'none';\n",
              "\n",
              "      async function convertToInteractive(key) {\n",
              "        const element = document.querySelector('#df-ccd608ca-9438-44c7-b3ac-cef05a7ab902');\n",
              "        const dataTable =\n",
              "          await google.colab.kernel.invokeFunction('convertToInteractive',\n",
              "                                                    [key], {});\n",
              "        if (!dataTable) return;\n",
              "\n",
              "        const docLinkHtml = 'Like what you see? Visit the ' +\n",
              "          '<a target=\"_blank\" href=https://colab.research.google.com/notebooks/data_table.ipynb>data table notebook</a>'\n",
              "          + ' to learn more about interactive tables.';\n",
              "        element.innerHTML = '';\n",
              "        dataTable['output_type'] = 'display_data';\n",
              "        await google.colab.output.renderOutput(dataTable, element);\n",
              "        const docLink = document.createElement('div');\n",
              "        docLink.innerHTML = docLinkHtml;\n",
              "        element.appendChild(docLink);\n",
              "      }\n",
              "    </script>\n",
              "  </div>\n",
              "\n",
              "\n",
              "<div id=\"df-29175fe2-025c-4117-ae84-7a792c3a25d3\">\n",
              "  <button class=\"colab-df-quickchart\" onclick=\"quickchart('df-29175fe2-025c-4117-ae84-7a792c3a25d3')\"\n",
              "            title=\"Suggest charts\"\n",
              "            style=\"display:none;\">\n",
              "\n",
              "<svg xmlns=\"http://www.w3.org/2000/svg\" height=\"24px\"viewBox=\"0 0 24 24\"\n",
              "     width=\"24px\">\n",
              "    <g>\n",
              "        <path d=\"M19 3H5c-1.1 0-2 .9-2 2v14c0 1.1.9 2 2 2h14c1.1 0 2-.9 2-2V5c0-1.1-.9-2-2-2zM9 17H7v-7h2v7zm4 0h-2V7h2v10zm4 0h-2v-4h2v4z\"/>\n",
              "    </g>\n",
              "</svg>\n",
              "  </button>\n",
              "\n",
              "<style>\n",
              "  .colab-df-quickchart {\n",
              "      --bg-color: #E8F0FE;\n",
              "      --fill-color: #1967D2;\n",
              "      --hover-bg-color: #E2EBFA;\n",
              "      --hover-fill-color: #174EA6;\n",
              "      --disabled-fill-color: #AAA;\n",
              "      --disabled-bg-color: #DDD;\n",
              "  }\n",
              "\n",
              "  [theme=dark] .colab-df-quickchart {\n",
              "      --bg-color: #3B4455;\n",
              "      --fill-color: #D2E3FC;\n",
              "      --hover-bg-color: #434B5C;\n",
              "      --hover-fill-color: #FFFFFF;\n",
              "      --disabled-bg-color: #3B4455;\n",
              "      --disabled-fill-color: #666;\n",
              "  }\n",
              "\n",
              "  .colab-df-quickchart {\n",
              "    background-color: var(--bg-color);\n",
              "    border: none;\n",
              "    border-radius: 50%;\n",
              "    cursor: pointer;\n",
              "    display: none;\n",
              "    fill: var(--fill-color);\n",
              "    height: 32px;\n",
              "    padding: 0;\n",
              "    width: 32px;\n",
              "  }\n",
              "\n",
              "  .colab-df-quickchart:hover {\n",
              "    background-color: var(--hover-bg-color);\n",
              "    box-shadow: 0 1px 2px rgba(60, 64, 67, 0.3), 0 1px 3px 1px rgba(60, 64, 67, 0.15);\n",
              "    fill: var(--button-hover-fill-color);\n",
              "  }\n",
              "\n",
              "  .colab-df-quickchart-complete:disabled,\n",
              "  .colab-df-quickchart-complete:disabled:hover {\n",
              "    background-color: var(--disabled-bg-color);\n",
              "    fill: var(--disabled-fill-color);\n",
              "    box-shadow: none;\n",
              "  }\n",
              "\n",
              "  .colab-df-spinner {\n",
              "    border: 2px solid var(--fill-color);\n",
              "    border-color: transparent;\n",
              "    border-bottom-color: var(--fill-color);\n",
              "    animation:\n",
              "      spin 1s steps(1) infinite;\n",
              "  }\n",
              "\n",
              "  @keyframes spin {\n",
              "    0% {\n",
              "      border-color: transparent;\n",
              "      border-bottom-color: var(--fill-color);\n",
              "      border-left-color: var(--fill-color);\n",
              "    }\n",
              "    20% {\n",
              "      border-color: transparent;\n",
              "      border-left-color: var(--fill-color);\n",
              "      border-top-color: var(--fill-color);\n",
              "    }\n",
              "    30% {\n",
              "      border-color: transparent;\n",
              "      border-left-color: var(--fill-color);\n",
              "      border-top-color: var(--fill-color);\n",
              "      border-right-color: var(--fill-color);\n",
              "    }\n",
              "    40% {\n",
              "      border-color: transparent;\n",
              "      border-right-color: var(--fill-color);\n",
              "      border-top-color: var(--fill-color);\n",
              "    }\n",
              "    60% {\n",
              "      border-color: transparent;\n",
              "      border-right-color: var(--fill-color);\n",
              "    }\n",
              "    80% {\n",
              "      border-color: transparent;\n",
              "      border-right-color: var(--fill-color);\n",
              "      border-bottom-color: var(--fill-color);\n",
              "    }\n",
              "    90% {\n",
              "      border-color: transparent;\n",
              "      border-bottom-color: var(--fill-color);\n",
              "    }\n",
              "  }\n",
              "</style>\n",
              "\n",
              "  <script>\n",
              "    async function quickchart(key) {\n",
              "      const quickchartButtonEl =\n",
              "        document.querySelector('#' + key + ' button');\n",
              "      quickchartButtonEl.disabled = true;  // To prevent multiple clicks.\n",
              "      quickchartButtonEl.classList.add('colab-df-spinner');\n",
              "      try {\n",
              "        const charts = await google.colab.kernel.invokeFunction(\n",
              "            'suggestCharts', [key], {});\n",
              "      } catch (error) {\n",
              "        console.error('Error during call to suggestCharts:', error);\n",
              "      }\n",
              "      quickchartButtonEl.classList.remove('colab-df-spinner');\n",
              "      quickchartButtonEl.classList.add('colab-df-quickchart-complete');\n",
              "    }\n",
              "    (() => {\n",
              "      let quickchartButtonEl =\n",
              "        document.querySelector('#df-29175fe2-025c-4117-ae84-7a792c3a25d3 button');\n",
              "      quickchartButtonEl.style.display =\n",
              "        google.colab.kernel.accessAllowed ? 'block' : 'none';\n",
              "    })();\n",
              "  </script>\n",
              "</div>\n",
              "    </div>\n",
              "  </div>\n"
            ],
            "application/vnd.google.colaboratory.intrinsic+json": {
              "type": "dataframe",
              "variable_name": "principalDf",
              "summary": "{\n  \"name\": \"principalDf\",\n  \"rows\": 569,\n  \"fields\": [\n    {\n      \"column\": \"pc1\",\n      \"properties\": {\n        \"dtype\": \"number\",\n        \"std\": 3.647600690094047,\n        \"min\": -5.565735898128946,\n        \"max\": 16.319233232191202,\n        \"num_unique_values\": 569,\n        \"samples\": [\n          -0.7811899670798644,\n          2.7045961723908087,\n          1.4320694262884117\n        ],\n        \"semantic_type\": \"\",\n        \"description\": \"\"\n      }\n    },\n    {\n      \"column\": \"pc2\",\n      \"properties\": {\n        \"dtype\": \"number\",\n        \"std\": 2.387755138980155,\n        \"min\": -7.775852787532032,\n        \"max\": 12.57319421851688,\n        \"num_unique_values\": 569,\n        \"samples\": [\n          0.6528492561722455,\n          -4.4371417740338845,\n          -1.0496039577765777\n        ],\n        \"semantic_type\": \"\",\n        \"description\": \"\"\n      }\n    },\n    {\n      \"column\": \"pc3\",\n      \"properties\": {\n        \"dtype\": \"number\",\n        \"std\": 1.680151824986707,\n        \"min\": -4.880360768962507,\n        \"max\": 10.112423944396593,\n        \"num_unique_values\": 569,\n        \"samples\": [\n          -0.6436571287818292,\n          0.3073452380741609,\n          -1.2620116180583245\n        ],\n        \"semantic_type\": \"\",\n        \"description\": \"\"\n      }\n    },\n    {\n      \"column\": \"pc4\",\n      \"properties\": {\n        \"dtype\": \"number\",\n        \"std\": 1.4085906139577762,\n        \"min\": -5.133987740963034,\n        \"max\": 5.194269183313267,\n        \"num_unique_values\": 569,\n        \"samples\": [\n          0.21446850562161238,\n          0.4886931841516597,\n          0.5331897828426396\n        ],\n        \"semantic_type\": \"\",\n        \"description\": \"\"\n      }\n    },\n    {\n      \"column\": \"pc5\",\n      \"properties\": {\n        \"dtype\": \"number\",\n        \"std\": 1.28515883933798,\n        \"min\": -4.7896584361069205,\n        \"max\": 7.490436388410106,\n        \"num_unique_values\": 569,\n        \"samples\": [\n          -0.4376793112513044,\n          0.37249603360664074,\n          -0.6266947295577018\n        ],\n        \"semantic_type\": \"\",\n        \"description\": \"\"\n      }\n    },\n    {\n      \"column\": \"pc6\",\n      \"properties\": {\n        \"dtype\": \"number\",\n        \"std\": 1.0997646292688787,\n        \"min\": -4.217767012758259,\n        \"max\": 5.134229126254063,\n        \"num_unique_values\": 569,\n        \"samples\": [\n          -0.16048792238418202,\n          -0.29179766182005756,\n          -0.785910818349707\n        ],\n        \"semantic_type\": \"\",\n        \"description\": \"\"\n      }\n    },\n    {\n      \"column\": \"target\",\n      \"properties\": {\n        \"dtype\": \"number\",\n        \"std\": 0,\n        \"min\": 0,\n        \"max\": 1,\n        \"num_unique_values\": 2,\n        \"samples\": [\n          1,\n          0\n        ],\n        \"semantic_type\": \"\",\n        \"description\": \"\"\n      }\n    }\n  ]\n}"
            }
          },
          "metadata": {},
          "execution_count": 34
        }
      ]
    },
    {
      "cell_type": "code",
      "source": [
        "X_principal = principalDf.drop(columns=['target'])\n",
        "y_principal = principalDf['target']\n"
      ],
      "metadata": {
        "id": "SRS0Tadl08Tj"
      },
      "execution_count": 35,
      "outputs": []
    },
    {
      "cell_type": "code",
      "source": [
        "np.random.seed(9)\n",
        "X_train, X_test, y_train, y_test = train_test_split(X_principal,\n",
        "                                                   y_principal,\n",
        "                                                   train_size = 0.8,\n",
        "                                                   test_size = 0.20,\n",
        "                                                   random_state = 100)\n",
        "X_train.shape, X_test.shape, y_train.shape, y_test.shape"
      ],
      "metadata": {
        "id": "RtINzk4I0_Po",
        "outputId": "8cde779b-f810-4643-be3f-69ab964b8856",
        "colab": {
          "base_uri": "https://localhost:8080/"
        }
      },
      "execution_count": 36,
      "outputs": [
        {
          "output_type": "execute_result",
          "data": {
            "text/plain": [
              "((455, 6), (114, 6), (455,), (114,))"
            ]
          },
          "metadata": {},
          "execution_count": 36
        }
      ]
    },
    {
      "cell_type": "code",
      "source": [
        "\n",
        "principal_model_log = LogisticRegression()\n",
        "principal_model_log.fit(X_train, y_train)\n",
        "principal_model_log.score(X_train, y_train)\n",
        "y_pred = principal_model_log.predict(X_test)\n",
        "print(\"Accuracy Score: \", accuracy_score(y_test, y_pred),\n",
        "      \"\\nPrecision Score: \", precision_score(y_test, y_pred),\n",
        "      \"\\nRecall Score: \", recall_score(y_test, y_pred),\n",
        "      \"\\nF1 Score: \", f1_score(y_test, y_pred))"
      ],
      "metadata": {
        "id": "45XOZXjs1D6P",
        "outputId": "09111045-7e80-4437-bcd7-cd17a8c2b56a",
        "colab": {
          "base_uri": "https://localhost:8080/"
        }
      },
      "execution_count": 37,
      "outputs": [
        {
          "output_type": "stream",
          "name": "stdout",
          "text": [
            "Accuracy Score:  0.956140350877193 \n",
            "Precision Score:  0.9545454545454546 \n",
            "Recall Score:  0.9692307692307692 \n",
            "F1 Score:  0.9618320610687022\n"
          ]
        }
      ]
    },
    {
      "cell_type": "markdown",
      "source": [
        "**Problem 4**"
      ],
      "metadata": {
        "id": "9vsAIiuA1bPS"
      }
    },
    {
      "cell_type": "code",
      "source": [
        "principal_model_nb = GaussianNB()\n",
        "principal_model_nb.fit(X_train, y_train)\n",
        "principal_model_nb.score(X_train, y_train)\n",
        "y_pred = principal_model_nb.predict(X_test)\n",
        "print(\"Accuracy Score: \", accuracy_score(y_test, y_pred),\n",
        "      \"\\nPrecision Score: \", precision_score(y_test, y_pred),\n",
        "      \"\\nRecall Score: \", recall_score(y_test, y_pred),\n",
        "      \"\\nF1 Score: \", f1_score(y_test, y_pred))"
      ],
      "metadata": {
        "id": "fCo39x8y1Dy3",
        "outputId": "f9ca3894-d8a1-467f-b92b-ce5fc19970c8",
        "colab": {
          "base_uri": "https://localhost:8080/"
        }
      },
      "execution_count": 38,
      "outputs": [
        {
          "output_type": "stream",
          "name": "stdout",
          "text": [
            "Accuracy Score:  0.9210526315789473 \n",
            "Precision Score:  0.9117647058823529 \n",
            "Recall Score:  0.9538461538461539 \n",
            "F1 Score:  0.9323308270676691\n"
          ]
        }
      ]
    },
    {
      "cell_type": "markdown",
      "source": [
        "Iterating over K values Just to check the Accuracy and other scores"
      ],
      "metadata": {
        "id": "cQByJAJ71hMx"
      }
    },
    {
      "cell_type": "code",
      "source": [
        "for i in range(6, 30, 2):\n",
        "  pca_opt = PCA(n_components=i)\n",
        "  principalComponents = pca_opt.fit_transform(X_scaled)\n",
        "  principalDf = pd.DataFrame(data = principalComponents,columns = ['pc{}'.format(j) for j in range(1,i+1)])\n",
        "  principalDf['target'] = y\n",
        "  X_principal = principalDf.drop(columns=['target'])\n",
        "  y_principal = principalDf['target']\n",
        "  np.random.seed(9)\n",
        "  X_train, X_test, y_train, y_test = train_test_split(X_principal,\n",
        "                                                    y_principal,\n",
        "                                                    train_size = 0.8,\n",
        "                                                    test_size = 0.20,\n",
        "                                                    random_state = 100)\n",
        "  principal_model_log = LogisticRegression()\n",
        "  principal_model_log.fit(X_train, y_train)\n",
        "  principal_model_log.score(X_train, y_train)\n",
        "  y_pred = principal_model_log.predict(X_test)\n",
        "  print(\"\\nK: \", i)\n",
        "  print(\"max ratio: \", np.cumsum(pca_opt.explained_variance_ratio_)[-1])\n",
        "  print(\"Accuracy Score: \", accuracy_score(y_test, y_pred),\n",
        "        \"\\nPrecision Score: \", precision_score(y_test, y_pred),\n",
        "        \"\\nRecall Score: \", recall_score(y_test, y_pred),\n",
        "        \"\\nF1 Score: \", f1_score(y_test, y_pred))"
      ],
      "metadata": {
        "id": "8GkVJDK_1e6R",
        "outputId": "1e1c36d9-1cf4-4226-cfe4-02186fefc7fa",
        "colab": {
          "base_uri": "https://localhost:8080/"
        }
      },
      "execution_count": 39,
      "outputs": [
        {
          "output_type": "stream",
          "name": "stdout",
          "text": [
            "\n",
            "K:  6\n",
            "max ratio:  0.8875879635667783\n",
            "Accuracy Score:  0.956140350877193 \n",
            "Precision Score:  0.9545454545454546 \n",
            "Recall Score:  0.9692307692307692 \n",
            "F1 Score:  0.9618320610687022\n",
            "\n",
            "K:  8\n",
            "max ratio:  0.925982538691924\n",
            "Accuracy Score:  0.9649122807017544 \n",
            "Precision Score:  0.9552238805970149 \n",
            "Recall Score:  0.9846153846153847 \n",
            "F1 Score:  0.9696969696969696\n",
            "\n",
            "K:  10\n",
            "max ratio:  0.9515688143333634\n",
            "Accuracy Score:  0.9649122807017544 \n",
            "Precision Score:  0.9420289855072463 \n",
            "Recall Score:  1.0 \n",
            "F1 Score:  0.9701492537313433\n",
            "\n",
            "K:  12\n",
            "max ratio:  0.9700713832175911\n",
            "Accuracy Score:  0.9649122807017544 \n",
            "Precision Score:  0.9420289855072463 \n",
            "Recall Score:  1.0 \n",
            "F1 Score:  0.9701492537313433\n",
            "\n",
            "K:  14\n",
            "max ratio:  0.9833502905460394\n",
            "Accuracy Score:  0.9736842105263158 \n",
            "Precision Score:  0.9558823529411765 \n",
            "Recall Score:  1.0 \n",
            "F1 Score:  0.9774436090225563\n",
            "\n",
            "K:  16\n",
            "max ratio:  0.9891502160789623\n",
            "Accuracy Score:  0.9736842105263158 \n",
            "Precision Score:  0.9558823529411765 \n",
            "Recall Score:  1.0 \n",
            "F1 Score:  0.9774436090225563\n",
            "\n",
            "K:  18\n",
            "max ratio:  0.9928841434552492\n",
            "Accuracy Score:  0.9736842105263158 \n",
            "Precision Score:  0.9558823529411765 \n",
            "Recall Score:  1.0 \n",
            "F1 Score:  0.9774436090225563\n",
            "\n",
            "K:  20\n",
            "max ratio:  0.9955720432628136\n",
            "Accuracy Score:  0.9736842105263158 \n",
            "Precision Score:  0.9558823529411765 \n",
            "Recall Score:  1.0 \n",
            "F1 Score:  0.9774436090225563\n",
            "\n",
            "K:  22\n",
            "max ratio:  0.9974857864775679\n",
            "Accuracy Score:  0.9736842105263158 \n",
            "Precision Score:  0.9558823529411765 \n",
            "Recall Score:  1.0 \n",
            "F1 Score:  0.9774436090225563\n",
            "\n",
            "K:  24\n",
            "max ratio:  0.9988989813031391\n",
            "Accuracy Score:  0.9736842105263158 \n",
            "Precision Score:  0.9558823529411765 \n",
            "Recall Score:  1.0 \n",
            "F1 Score:  0.9774436090225563\n",
            "\n",
            "K:  26\n",
            "max ratio:  0.9996876116777818\n",
            "Accuracy Score:  0.9736842105263158 \n",
            "Precision Score:  0.9558823529411765 \n",
            "Recall Score:  1.0 \n",
            "F1 Score:  0.9774436090225563\n",
            "\n",
            "K:  28\n",
            "max ratio:  0.9999706050693259\n",
            "Accuracy Score:  0.9736842105263158 \n",
            "Precision Score:  0.9558823529411765 \n",
            "Recall Score:  1.0 \n",
            "F1 Score:  0.9774436090225563\n"
          ]
        }
      ]
    },
    {
      "cell_type": "markdown",
      "source": [
        "Optimal K number from the above results will be K = 6, which covers 88.76% of the data. Because For Cancer prediction, Recall Score should be maximum percentage Along with precision.(Because we need to detect as many cancer cases as possible). Also the trade-off score(F1 score) is also pretty good, compared to other k components.\n",
        "\n",
        "From the elbow method also, optimal number for K is resulted in 6"
      ],
      "metadata": {
        "id": "-zVj587z1oCO"
      }
    },
    {
      "cell_type": "code",
      "source": [
        "for i in range(6, 30, 2):\n",
        "  pca_opt = PCA(n_components=i)\n",
        "  principalComponents = pca_opt.fit_transform(X_scaled)\n",
        "  principalDf = pd.DataFrame(data = principalComponents,columns = ['pc{}'.format(j) for j in range(1,i+1)])\n",
        "  principalDf['target'] = y\n",
        "  X_principal = principalDf.drop(columns=['target'])\n",
        "  y_principal = principalDf['target']\n",
        "  np.random.seed(9)\n",
        "  X_train, X_test, y_train, y_test = train_test_split(X_principal,\n",
        "                                                    y_principal,\n",
        "                                                    train_size = 0.8,\n",
        "                                                    test_size = 0.20,\n",
        "                                                    random_state = 100)\n",
        "  principal_model_log = GaussianNB()\n",
        "  principal_model_log.fit(X_train, y_train)\n",
        "  principal_model_log.score(X_train, y_train)\n",
        "  y_pred = principal_model_log.predict(X_test)\n",
        "  print(\"\\nK: \", i)\n",
        "  print(\"max ratio: \", np.cumsum(pca_opt.explained_variance_ratio_)[-1])\n",
        "  print(\"Accuracy Score: \", accuracy_score(y_test, y_pred),\n",
        "        \"\\nPrecision Score: \", precision_score(y_test, y_pred),\n",
        "        \"\\nRecall Score: \", recall_score(y_test, y_pred),\n",
        "        \"\\nF1 Score: \", f1_score(y_test, y_pred))"
      ],
      "metadata": {
        "id": "8kENGfKQ1pJp",
        "outputId": "afef17b7-e3ab-4da1-ff20-722d0623347c",
        "colab": {
          "base_uri": "https://localhost:8080/"
        }
      },
      "execution_count": 40,
      "outputs": [
        {
          "output_type": "stream",
          "name": "stdout",
          "text": [
            "\n",
            "K:  6\n",
            "max ratio:  0.8875879635667783\n",
            "Accuracy Score:  0.9210526315789473 \n",
            "Precision Score:  0.9117647058823529 \n",
            "Recall Score:  0.9538461538461539 \n",
            "F1 Score:  0.9323308270676691\n",
            "\n",
            "K:  8\n",
            "max ratio:  0.925982538691924\n",
            "Accuracy Score:  0.9122807017543859 \n",
            "Precision Score:  0.8873239436619719 \n",
            "Recall Score:  0.9692307692307692 \n",
            "F1 Score:  0.9264705882352942\n",
            "\n",
            "K:  10\n",
            "max ratio:  0.9515688143333634\n",
            "Accuracy Score:  0.9122807017543859 \n",
            "Precision Score:  0.8873239436619719 \n",
            "Recall Score:  0.9692307692307692 \n",
            "F1 Score:  0.9264705882352942\n",
            "\n",
            "K:  12\n",
            "max ratio:  0.9700713832175911\n",
            "Accuracy Score:  0.9035087719298246 \n",
            "Precision Score:  0.875 \n",
            "Recall Score:  0.9692307692307692 \n",
            "F1 Score:  0.9197080291970802\n",
            "\n",
            "K:  14\n",
            "max ratio:  0.9833502905460394\n",
            "Accuracy Score:  0.9035087719298246 \n",
            "Precision Score:  0.875 \n",
            "Recall Score:  0.9692307692307692 \n",
            "F1 Score:  0.9197080291970802\n",
            "\n",
            "K:  16\n",
            "max ratio:  0.9891502160789623\n",
            "Accuracy Score:  0.9035087719298246 \n",
            "Precision Score:  0.875 \n",
            "Recall Score:  0.9692307692307692 \n",
            "F1 Score:  0.9197080291970802\n",
            "\n",
            "K:  18\n",
            "max ratio:  0.9928841434552492\n",
            "Accuracy Score:  0.8947368421052632 \n",
            "Precision Score:  0.863013698630137 \n",
            "Recall Score:  0.9692307692307692 \n",
            "F1 Score:  0.9130434782608695\n",
            "\n",
            "K:  20\n",
            "max ratio:  0.9955720432628136\n",
            "Accuracy Score:  0.9035087719298246 \n",
            "Precision Score:  0.875 \n",
            "Recall Score:  0.9692307692307692 \n",
            "F1 Score:  0.9197080291970802\n",
            "\n",
            "K:  22\n",
            "max ratio:  0.9974857864775679\n",
            "Accuracy Score:  0.8859649122807017 \n",
            "Precision Score:  0.8611111111111112 \n",
            "Recall Score:  0.9538461538461539 \n",
            "F1 Score:  0.9051094890510949\n",
            "\n",
            "K:  24\n",
            "max ratio:  0.9988989813031391\n",
            "Accuracy Score:  0.868421052631579 \n",
            "Precision Score:  0.8571428571428571 \n",
            "Recall Score:  0.9230769230769231 \n",
            "F1 Score:  0.888888888888889\n",
            "\n",
            "K:  26\n",
            "max ratio:  0.9996876116777818\n",
            "Accuracy Score:  0.868421052631579 \n",
            "Precision Score:  0.8571428571428571 \n",
            "Recall Score:  0.9230769230769231 \n",
            "F1 Score:  0.888888888888889\n",
            "\n",
            "K:  28\n",
            "max ratio:  0.9999706050693259\n",
            "Accuracy Score:  0.8596491228070176 \n",
            "Precision Score:  0.855072463768116 \n",
            "Recall Score:  0.9076923076923077 \n",
            "F1 Score:  0.8805970149253731\n"
          ]
        }
      ]
    },
    {
      "cell_type": "markdown",
      "source": [
        "Optimal K number from the above results will be K = 6, which covers 88.76% of the data. Because For Cancer prediction, Recall Score should be maximum percentage Along with precision.(Because we need to detect as many cancer cases as possible). Also the trade-off score(F1 score) is also pretty good, compared to other k components.\n",
        "\n",
        "From the elbow method also, optimal number for K is resulted in 6"
      ],
      "metadata": {
        "id": "XbeFbZrQ1wvg"
      }
    }
  ],
  "metadata": {
    "colab": {
      "provenance": [],
      "include_colab_link": true
    },
    "kernelspec": {
      "display_name": "Python 3",
      "name": "python3"
    }
  },
  "nbformat": 4,
  "nbformat_minor": 0
}